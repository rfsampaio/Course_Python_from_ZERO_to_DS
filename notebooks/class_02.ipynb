{
 "cells": [
  {
   "cell_type": "markdown",
   "id": "4955cbe9",
   "metadata": {
    "tags": [],
    "toc-hr-collapsed": true
   },
   "source": [
    "## **1. Problema de Negócio**\n",
    "\n",
    "**1.1 Empresa:** House Rocket.\n",
    "\n",
    "**1.2 O que a empresa faz:** a House Rocket é uma plataforma de compra e venda de imóveis.\n",
    "\n",
    "**1.3 Qual o problema?** O CEO da empresa gostaria de maximizar os lucros encontrando bons negócios.\n",
    "\n",
    "**1.4 Qual a principal estratégia?** Fontes externas para encontrar bons negócios.\n",
    "\n",
    "**1.5 As necessidades do CEO da House Rocket:**\n",
    "1. Quantos imóveis possuem o número máximo de andares?\n",
    "2. Criar uma classificação para os imóveis, separando-os em alto e baixo padrão, de acordo com o preço.\n",
    "> *Acima de 540.000 = Alto Padrão | Abaixo de 540.000 = Baixo Padrão.*\n",
    "3. Criar um relatório, ordenado pelo preço, contendo as seguintes informações:\n",
    "> *id do imóvel || data que o imóvel ficou disponível para compra || número de quartos || tamanho total do terreno || preço || classificação do imóvel (baixo ou alto padrão).*\n",
    "4. Criar um mapa indicando a localização geográfica dos imóveis.\n",
    "**1.6 Exercícios:**\n",
    "1. Crie uma nova coluna chamada: \"property_age\".\n",
    "\t- Se o valor da coluna “date” for maior que 2014-01-01 => \"new_property\"\n",
    "\t- Se o valor da coluna “date” for menor que 2014-01-01 => \"old_property\"\n",
    "2. Crie uma nova coluna chamada: \"dormitory_type\".\n",
    "\t- Se o valor da coluna “bedrooms” for igual a 1 => \"studio\"\n",
    "\t- Se o valor da coluna “bedrooms” for igual a 2 => \"apartment\"\n",
    "\t- Se o valor da coluna “bedrooms” for maior que 2 => \"house\"\n",
    "3. Crie uma nova coluna chamada: \"condition_type\".\n",
    "\t- Se o valor da coluna \"condition\" for menor ou igual a 2 => \"bad\"\n",
    "\t- Se o valor da coluna \"condition\" for igual a 3 ou 4 => \"regular\"\n",
    "\t- Se o valor da coluna \"condition\" for igual a 5 => \"good\"\n",
    "4. Modifique o TIPO da coluna \"condition\" para STRING.\n",
    "5. Delete as colunas: \"sqft_living15\" e \"sqft_lot15\".\n",
    "6. Modifique o TIPO da coluna \"yr_built\" para DATE.\n",
    "7. Modifique o TIPO da coluna \"yr_renovated\" para DATE.\n",
    "8. Qual a data mais antiga de construção de um imóvel?\n",
    "9. Qual a data mais antiga de renovação de um imóvel?\n",
    "10. Quantos imóveis tem 2 andares?\n",
    "11. Quantos imóveis estão com a condição igual a \"regular\"?\n",
    "12. Quantos imóveis estão com a condição igual a \"bad\" e possuem \"vista para a água\"?\n",
    "13. Quantos imóveis estão com a condição igual a \"good\" e são \"new_property\"?\n",
    "14. Qual o valor do imóvel mais caro do tipo \"studio\"?\n",
    "15. Quantos imóveis do tipo \"apartment\" foram reformados em 2015?\n",
    "16. Qual o maior número de quartos que um imóvel do tipo \"house\" possui?\n",
    "17. Quantos imóveis \"new_property\" foram reformados no ano de 2014?\n",
    "18. Selecione as colunas \"id\", \"date\", \"price\", \"floors\" e \"zipcode\" pelo método:\n",
    "\t1. Direto pelo nome das colunas\n",
    "\t2. Pelos índices\n",
    "\t3. Pelos índices das linhas e o nome das colunas\n",
    "\t4. Pelos índices booleanos\n",
    "19. Salve um arquivo .csv com somente as colunas do item 18.\n",
    "20. Modifique a cor dos pontos no mapa para \"verde-escuro\"."
   ]
  },
  {
   "cell_type": "markdown",
   "id": "32c007bd-9a19-489d-8735-bcf90d71de4c",
   "metadata": {},
   "source": [
    "## **2. Planejamento da Solução**\n",
    "\n",
    "**2.1 Planejamento do PRODUTO FINAL:**\n",
    "\n",
    "a. O que eu vou entregar? (Planilha, Texto, E-mail, Modelo de ML, etc.)\n",
    "- Resposta - O CEO receberá um e-mail com 2 anexos.\n",
    "\n",
    "b. Como vai ser a entrega?\n",
    "- Corpo do e-mail:\n",
    "  - Texto com perguntas e respostas.\n",
    "- Anexos:\n",
    "  - O relatório em CSV;\n",
    "  - A foto do mapa em HTML.\n",
    "\n",
    "**2.2 Planejamento do PROCESSO:**\n",
    "\n",
    "a. Onde estão os dados? (Excel, CSV, JSON, TXT, SGBD, API, etc.)\n",
    "- Resposta - [House Sales in King County, USA | Kaggle](https://www.kaggle.com/harlfoxem/housesalesprediction).\n",
    "\n",
    "b. Como coletar os dados? (Download manual, SQL, Python, Streamlit, etc.)\n",
    "- Resposta - Fazendo o download manual do dataset.\n",
    "\n",
    "**2.3 Planejamento das FERRAMENTAS:**\n",
    "\n",
    "a. Identificar quais ferramentas podem ser utilizadas?\n",
    "- Resposta - Excel, Python, etc.\n",
    "\n",
    "b. Escolher as ferramentas que serão utilizadas?\n",
    "- Resposta - Python e Jupyter Notebook."
   ]
  },
  {
   "cell_type": "markdown",
   "id": "1e81a8bf",
   "metadata": {},
   "source": [
    "## **3. Atendendo as necessidades de Negócio com Python e Jupyter Notebook.**"
   ]
  },
  {
   "cell_type": "markdown",
   "id": "b2663d80",
   "metadata": {},
   "source": [
    "Importando bibliotecas necessárias:"
   ]
  },
  {
   "cell_type": "code",
   "execution_count": 12,
   "id": "4ef4a7f3",
   "metadata": {
    "ExecuteTime": {
     "end_time": "2022-01-12T12:25:30.705430Z",
     "start_time": "2022-01-12T12:25:29.756249Z"
    },
    "execution": {
     "iopub.execute_input": "2022-01-14T14:37:11.624586Z",
     "iopub.status.busy": "2022-01-14T14:37:11.624475Z",
     "iopub.status.idle": "2022-01-14T14:37:11.641648Z",
     "shell.execute_reply": "2022-01-14T14:37:11.640649Z",
     "shell.execute_reply.started": "2022-01-14T14:37:11.624586Z"
    },
    "tags": []
   },
   "outputs": [],
   "source": [
    "import numpy as np\n",
    "import pandas as pd"
   ]
  },
  {
   "cell_type": "markdown",
   "id": "30fa4917",
   "metadata": {},
   "source": [
    "Acessando o dataset:"
   ]
  },
  {
   "cell_type": "code",
   "execution_count": 13,
   "id": "45eb69f0",
   "metadata": {
    "ExecuteTime": {
     "end_time": "2022-01-12T12:25:35.854270Z",
     "start_time": "2022-01-12T12:25:35.743084Z"
    },
    "execution": {
     "iopub.execute_input": "2022-01-14T14:37:14.193825Z",
     "iopub.status.busy": "2022-01-14T14:37:14.193091Z",
     "iopub.status.idle": "2022-01-14T14:37:14.287247Z",
     "shell.execute_reply": "2022-01-14T14:37:14.287247Z",
     "shell.execute_reply.started": "2022-01-14T14:37:14.193825Z"
    },
    "tags": []
   },
   "outputs": [],
   "source": [
    "df = pd.read_csv(\"../data/kc_house_data.csv\")"
   ]
  },
  {
   "cell_type": "markdown",
   "id": "9a94fcb2",
   "metadata": {},
   "source": [
    "Visualizando o cabeçalho do dataset:"
   ]
  },
  {
   "cell_type": "code",
   "execution_count": 14,
   "id": "81fcf310",
   "metadata": {
    "ExecuteTime": {
     "end_time": "2022-01-12T12:25:39.281842Z",
     "start_time": "2022-01-12T12:25:39.238309Z"
    },
    "execution": {
     "iopub.execute_input": "2022-01-14T14:37:16.514435Z",
     "iopub.status.busy": "2022-01-14T14:37:16.514435Z",
     "iopub.status.idle": "2022-01-14T14:37:16.553061Z",
     "shell.execute_reply": "2022-01-14T14:37:16.552545Z",
     "shell.execute_reply.started": "2022-01-14T14:37:16.514435Z"
    },
    "tags": []
   },
   "outputs": [
    {
     "data": {
      "text/html": [
       "<div>\n",
       "<style scoped>\n",
       "    .dataframe tbody tr th:only-of-type {\n",
       "        vertical-align: middle;\n",
       "    }\n",
       "\n",
       "    .dataframe tbody tr th {\n",
       "        vertical-align: top;\n",
       "    }\n",
       "\n",
       "    .dataframe thead th {\n",
       "        text-align: right;\n",
       "    }\n",
       "</style>\n",
       "<table border=\"1\" class=\"dataframe\">\n",
       "  <thead>\n",
       "    <tr style=\"text-align: right;\">\n",
       "      <th></th>\n",
       "      <th>id</th>\n",
       "      <th>date</th>\n",
       "      <th>price</th>\n",
       "      <th>bedrooms</th>\n",
       "      <th>bathrooms</th>\n",
       "      <th>sqft_living</th>\n",
       "      <th>sqft_lot</th>\n",
       "      <th>floors</th>\n",
       "      <th>waterfront</th>\n",
       "      <th>view</th>\n",
       "      <th>...</th>\n",
       "      <th>grade</th>\n",
       "      <th>sqft_above</th>\n",
       "      <th>sqft_basement</th>\n",
       "      <th>yr_built</th>\n",
       "      <th>yr_renovated</th>\n",
       "      <th>zipcode</th>\n",
       "      <th>lat</th>\n",
       "      <th>long</th>\n",
       "      <th>sqft_living15</th>\n",
       "      <th>sqft_lot15</th>\n",
       "    </tr>\n",
       "  </thead>\n",
       "  <tbody>\n",
       "    <tr>\n",
       "      <th>0</th>\n",
       "      <td>7129300520</td>\n",
       "      <td>20141013T000000</td>\n",
       "      <td>221900.0</td>\n",
       "      <td>3</td>\n",
       "      <td>1.00</td>\n",
       "      <td>1180</td>\n",
       "      <td>5650</td>\n",
       "      <td>1.0</td>\n",
       "      <td>0</td>\n",
       "      <td>0</td>\n",
       "      <td>...</td>\n",
       "      <td>7</td>\n",
       "      <td>1180</td>\n",
       "      <td>0</td>\n",
       "      <td>1955</td>\n",
       "      <td>0</td>\n",
       "      <td>98178</td>\n",
       "      <td>47.5112</td>\n",
       "      <td>-122.257</td>\n",
       "      <td>1340</td>\n",
       "      <td>5650</td>\n",
       "    </tr>\n",
       "    <tr>\n",
       "      <th>1</th>\n",
       "      <td>6414100192</td>\n",
       "      <td>20141209T000000</td>\n",
       "      <td>538000.0</td>\n",
       "      <td>3</td>\n",
       "      <td>2.25</td>\n",
       "      <td>2570</td>\n",
       "      <td>7242</td>\n",
       "      <td>2.0</td>\n",
       "      <td>0</td>\n",
       "      <td>0</td>\n",
       "      <td>...</td>\n",
       "      <td>7</td>\n",
       "      <td>2170</td>\n",
       "      <td>400</td>\n",
       "      <td>1951</td>\n",
       "      <td>1991</td>\n",
       "      <td>98125</td>\n",
       "      <td>47.7210</td>\n",
       "      <td>-122.319</td>\n",
       "      <td>1690</td>\n",
       "      <td>7639</td>\n",
       "    </tr>\n",
       "    <tr>\n",
       "      <th>2</th>\n",
       "      <td>5631500400</td>\n",
       "      <td>20150225T000000</td>\n",
       "      <td>180000.0</td>\n",
       "      <td>2</td>\n",
       "      <td>1.00</td>\n",
       "      <td>770</td>\n",
       "      <td>10000</td>\n",
       "      <td>1.0</td>\n",
       "      <td>0</td>\n",
       "      <td>0</td>\n",
       "      <td>...</td>\n",
       "      <td>6</td>\n",
       "      <td>770</td>\n",
       "      <td>0</td>\n",
       "      <td>1933</td>\n",
       "      <td>0</td>\n",
       "      <td>98028</td>\n",
       "      <td>47.7379</td>\n",
       "      <td>-122.233</td>\n",
       "      <td>2720</td>\n",
       "      <td>8062</td>\n",
       "    </tr>\n",
       "    <tr>\n",
       "      <th>3</th>\n",
       "      <td>2487200875</td>\n",
       "      <td>20141209T000000</td>\n",
       "      <td>604000.0</td>\n",
       "      <td>4</td>\n",
       "      <td>3.00</td>\n",
       "      <td>1960</td>\n",
       "      <td>5000</td>\n",
       "      <td>1.0</td>\n",
       "      <td>0</td>\n",
       "      <td>0</td>\n",
       "      <td>...</td>\n",
       "      <td>7</td>\n",
       "      <td>1050</td>\n",
       "      <td>910</td>\n",
       "      <td>1965</td>\n",
       "      <td>0</td>\n",
       "      <td>98136</td>\n",
       "      <td>47.5208</td>\n",
       "      <td>-122.393</td>\n",
       "      <td>1360</td>\n",
       "      <td>5000</td>\n",
       "    </tr>\n",
       "    <tr>\n",
       "      <th>4</th>\n",
       "      <td>1954400510</td>\n",
       "      <td>20150218T000000</td>\n",
       "      <td>510000.0</td>\n",
       "      <td>3</td>\n",
       "      <td>2.00</td>\n",
       "      <td>1680</td>\n",
       "      <td>8080</td>\n",
       "      <td>1.0</td>\n",
       "      <td>0</td>\n",
       "      <td>0</td>\n",
       "      <td>...</td>\n",
       "      <td>8</td>\n",
       "      <td>1680</td>\n",
       "      <td>0</td>\n",
       "      <td>1987</td>\n",
       "      <td>0</td>\n",
       "      <td>98074</td>\n",
       "      <td>47.6168</td>\n",
       "      <td>-122.045</td>\n",
       "      <td>1800</td>\n",
       "      <td>7503</td>\n",
       "    </tr>\n",
       "  </tbody>\n",
       "</table>\n",
       "<p>5 rows × 21 columns</p>\n",
       "</div>"
      ],
      "text/plain": [
       "           id             date     price  bedrooms  bathrooms  sqft_living  \\\n",
       "0  7129300520  20141013T000000  221900.0         3       1.00         1180   \n",
       "1  6414100192  20141209T000000  538000.0         3       2.25         2570   \n",
       "2  5631500400  20150225T000000  180000.0         2       1.00          770   \n",
       "3  2487200875  20141209T000000  604000.0         4       3.00         1960   \n",
       "4  1954400510  20150218T000000  510000.0         3       2.00         1680   \n",
       "\n",
       "   sqft_lot  floors  waterfront  view  ...  grade  sqft_above  sqft_basement  \\\n",
       "0      5650     1.0           0     0  ...      7        1180              0   \n",
       "1      7242     2.0           0     0  ...      7        2170            400   \n",
       "2     10000     1.0           0     0  ...      6         770              0   \n",
       "3      5000     1.0           0     0  ...      7        1050            910   \n",
       "4      8080     1.0           0     0  ...      8        1680              0   \n",
       "\n",
       "   yr_built  yr_renovated  zipcode      lat     long  sqft_living15  \\\n",
       "0      1955             0    98178  47.5112 -122.257           1340   \n",
       "1      1951          1991    98125  47.7210 -122.319           1690   \n",
       "2      1933             0    98028  47.7379 -122.233           2720   \n",
       "3      1965             0    98136  47.5208 -122.393           1360   \n",
       "4      1987             0    98074  47.6168 -122.045           1800   \n",
       "\n",
       "   sqft_lot15  \n",
       "0        5650  \n",
       "1        7639  \n",
       "2        8062  \n",
       "3        5000  \n",
       "4        7503  \n",
       "\n",
       "[5 rows x 21 columns]"
      ]
     },
     "execution_count": 14,
     "metadata": {},
     "output_type": "execute_result"
    }
   ],
   "source": [
    "df.head()"
   ]
  },
  {
   "cell_type": "markdown",
   "id": "1a1301f7",
   "metadata": {},
   "source": [
    "Visualizando o rodapé do dataset:"
   ]
  },
  {
   "cell_type": "code",
   "execution_count": 4,
   "id": "91a5b63d",
   "metadata": {
    "ExecuteTime": {
     "end_time": "2022-01-10T21:33:14.082147Z",
     "start_time": "2022-01-10T21:33:14.038194Z"
    },
    "execution": {
     "iopub.execute_input": "2022-01-13T13:20:53.297125Z",
     "iopub.status.busy": "2022-01-13T13:20:53.297125Z",
     "iopub.status.idle": "2022-01-13T13:20:53.337457Z",
     "shell.execute_reply": "2022-01-13T13:20:53.337457Z",
     "shell.execute_reply.started": "2022-01-13T13:20:53.297125Z"
    }
   },
   "outputs": [
    {
     "data": {
      "text/html": [
       "<div>\n",
       "<style scoped>\n",
       "    .dataframe tbody tr th:only-of-type {\n",
       "        vertical-align: middle;\n",
       "    }\n",
       "\n",
       "    .dataframe tbody tr th {\n",
       "        vertical-align: top;\n",
       "    }\n",
       "\n",
       "    .dataframe thead th {\n",
       "        text-align: right;\n",
       "    }\n",
       "</style>\n",
       "<table border=\"1\" class=\"dataframe\">\n",
       "  <thead>\n",
       "    <tr style=\"text-align: right;\">\n",
       "      <th></th>\n",
       "      <th>id</th>\n",
       "      <th>date</th>\n",
       "      <th>price</th>\n",
       "      <th>bedrooms</th>\n",
       "      <th>bathrooms</th>\n",
       "      <th>sqft_living</th>\n",
       "      <th>sqft_lot</th>\n",
       "      <th>floors</th>\n",
       "      <th>waterfront</th>\n",
       "      <th>view</th>\n",
       "      <th>...</th>\n",
       "      <th>grade</th>\n",
       "      <th>sqft_above</th>\n",
       "      <th>sqft_basement</th>\n",
       "      <th>yr_built</th>\n",
       "      <th>yr_renovated</th>\n",
       "      <th>zipcode</th>\n",
       "      <th>lat</th>\n",
       "      <th>long</th>\n",
       "      <th>sqft_living15</th>\n",
       "      <th>sqft_lot15</th>\n",
       "    </tr>\n",
       "  </thead>\n",
       "  <tbody>\n",
       "    <tr>\n",
       "      <th>21608</th>\n",
       "      <td>263000018</td>\n",
       "      <td>20140521T000000</td>\n",
       "      <td>360000.0</td>\n",
       "      <td>3</td>\n",
       "      <td>2.50</td>\n",
       "      <td>1530</td>\n",
       "      <td>1131</td>\n",
       "      <td>3.0</td>\n",
       "      <td>0</td>\n",
       "      <td>0</td>\n",
       "      <td>...</td>\n",
       "      <td>8</td>\n",
       "      <td>1530</td>\n",
       "      <td>0</td>\n",
       "      <td>2009</td>\n",
       "      <td>0</td>\n",
       "      <td>98103</td>\n",
       "      <td>47.6993</td>\n",
       "      <td>-122.346</td>\n",
       "      <td>1530</td>\n",
       "      <td>1509</td>\n",
       "    </tr>\n",
       "    <tr>\n",
       "      <th>21609</th>\n",
       "      <td>6600060120</td>\n",
       "      <td>20150223T000000</td>\n",
       "      <td>400000.0</td>\n",
       "      <td>4</td>\n",
       "      <td>2.50</td>\n",
       "      <td>2310</td>\n",
       "      <td>5813</td>\n",
       "      <td>2.0</td>\n",
       "      <td>0</td>\n",
       "      <td>0</td>\n",
       "      <td>...</td>\n",
       "      <td>8</td>\n",
       "      <td>2310</td>\n",
       "      <td>0</td>\n",
       "      <td>2014</td>\n",
       "      <td>0</td>\n",
       "      <td>98146</td>\n",
       "      <td>47.5107</td>\n",
       "      <td>-122.362</td>\n",
       "      <td>1830</td>\n",
       "      <td>7200</td>\n",
       "    </tr>\n",
       "    <tr>\n",
       "      <th>21610</th>\n",
       "      <td>1523300141</td>\n",
       "      <td>20140623T000000</td>\n",
       "      <td>402101.0</td>\n",
       "      <td>2</td>\n",
       "      <td>0.75</td>\n",
       "      <td>1020</td>\n",
       "      <td>1350</td>\n",
       "      <td>2.0</td>\n",
       "      <td>0</td>\n",
       "      <td>0</td>\n",
       "      <td>...</td>\n",
       "      <td>7</td>\n",
       "      <td>1020</td>\n",
       "      <td>0</td>\n",
       "      <td>2009</td>\n",
       "      <td>0</td>\n",
       "      <td>98144</td>\n",
       "      <td>47.5944</td>\n",
       "      <td>-122.299</td>\n",
       "      <td>1020</td>\n",
       "      <td>2007</td>\n",
       "    </tr>\n",
       "    <tr>\n",
       "      <th>21611</th>\n",
       "      <td>291310100</td>\n",
       "      <td>20150116T000000</td>\n",
       "      <td>400000.0</td>\n",
       "      <td>3</td>\n",
       "      <td>2.50</td>\n",
       "      <td>1600</td>\n",
       "      <td>2388</td>\n",
       "      <td>2.0</td>\n",
       "      <td>0</td>\n",
       "      <td>0</td>\n",
       "      <td>...</td>\n",
       "      <td>8</td>\n",
       "      <td>1600</td>\n",
       "      <td>0</td>\n",
       "      <td>2004</td>\n",
       "      <td>0</td>\n",
       "      <td>98027</td>\n",
       "      <td>47.5345</td>\n",
       "      <td>-122.069</td>\n",
       "      <td>1410</td>\n",
       "      <td>1287</td>\n",
       "    </tr>\n",
       "    <tr>\n",
       "      <th>21612</th>\n",
       "      <td>1523300157</td>\n",
       "      <td>20141015T000000</td>\n",
       "      <td>325000.0</td>\n",
       "      <td>2</td>\n",
       "      <td>0.75</td>\n",
       "      <td>1020</td>\n",
       "      <td>1076</td>\n",
       "      <td>2.0</td>\n",
       "      <td>0</td>\n",
       "      <td>0</td>\n",
       "      <td>...</td>\n",
       "      <td>7</td>\n",
       "      <td>1020</td>\n",
       "      <td>0</td>\n",
       "      <td>2008</td>\n",
       "      <td>0</td>\n",
       "      <td>98144</td>\n",
       "      <td>47.5941</td>\n",
       "      <td>-122.299</td>\n",
       "      <td>1020</td>\n",
       "      <td>1357</td>\n",
       "    </tr>\n",
       "  </tbody>\n",
       "</table>\n",
       "<p>5 rows × 21 columns</p>\n",
       "</div>"
      ],
      "text/plain": [
       "               id             date     price  bedrooms  bathrooms  \\\n",
       "21608   263000018  20140521T000000  360000.0         3       2.50   \n",
       "21609  6600060120  20150223T000000  400000.0         4       2.50   \n",
       "21610  1523300141  20140623T000000  402101.0         2       0.75   \n",
       "21611   291310100  20150116T000000  400000.0         3       2.50   \n",
       "21612  1523300157  20141015T000000  325000.0         2       0.75   \n",
       "\n",
       "       sqft_living  sqft_lot  floors  waterfront  view  ...  grade  \\\n",
       "21608         1530      1131     3.0           0     0  ...      8   \n",
       "21609         2310      5813     2.0           0     0  ...      8   \n",
       "21610         1020      1350     2.0           0     0  ...      7   \n",
       "21611         1600      2388     2.0           0     0  ...      8   \n",
       "21612         1020      1076     2.0           0     0  ...      7   \n",
       "\n",
       "       sqft_above  sqft_basement  yr_built  yr_renovated  zipcode      lat  \\\n",
       "21608        1530              0      2009             0    98103  47.6993   \n",
       "21609        2310              0      2014             0    98146  47.5107   \n",
       "21610        1020              0      2009             0    98144  47.5944   \n",
       "21611        1600              0      2004             0    98027  47.5345   \n",
       "21612        1020              0      2008             0    98144  47.5941   \n",
       "\n",
       "          long  sqft_living15  sqft_lot15  \n",
       "21608 -122.346           1530        1509  \n",
       "21609 -122.362           1830        7200  \n",
       "21610 -122.299           1020        2007  \n",
       "21611 -122.069           1410        1287  \n",
       "21612 -122.299           1020        1357  \n",
       "\n",
       "[5 rows x 21 columns]"
      ]
     },
     "execution_count": 4,
     "metadata": {},
     "output_type": "execute_result"
    }
   ],
   "source": [
    "df.tail()"
   ]
  },
  {
   "cell_type": "markdown",
   "id": "bf7eb378-b7d4-4ebf-9193-5800c06e0dc6",
   "metadata": {},
   "source": [
    "Visualizando a lista de colunas do dataset:"
   ]
  },
  {
   "cell_type": "code",
   "execution_count": 6,
   "id": "4a354245-6b27-4d03-825e-61294019013d",
   "metadata": {
    "execution": {
     "iopub.execute_input": "2022-01-13T13:23:20.031046Z",
     "iopub.status.busy": "2022-01-13T13:23:20.031046Z",
     "iopub.status.idle": "2022-01-13T13:23:20.045948Z",
     "shell.execute_reply": "2022-01-13T13:23:20.045948Z",
     "shell.execute_reply.started": "2022-01-13T13:23:20.031046Z"
    },
    "tags": []
   },
   "outputs": [
    {
     "data": {
      "text/plain": [
       "['id',\n",
       " 'date',\n",
       " 'price',\n",
       " 'bedrooms',\n",
       " 'bathrooms',\n",
       " 'sqft_living',\n",
       " 'sqft_lot',\n",
       " 'floors',\n",
       " 'waterfront',\n",
       " 'view',\n",
       " 'condition',\n",
       " 'grade',\n",
       " 'sqft_above',\n",
       " 'sqft_basement',\n",
       " 'yr_built',\n",
       " 'yr_renovated',\n",
       " 'zipcode',\n",
       " 'lat',\n",
       " 'long',\n",
       " 'sqft_living15',\n",
       " 'sqft_lot15']"
      ]
     },
     "execution_count": 6,
     "metadata": {},
     "output_type": "execute_result"
    }
   ],
   "source": [
    "df.columns.to_list()"
   ]
  },
  {
   "cell_type": "markdown",
   "id": "4fa6ef33-252b-4b5d-a04d-2a2e5be42c87",
   "metadata": {},
   "source": [
    "Visualizando os tipos das colunas do dataset:"
   ]
  },
  {
   "cell_type": "code",
   "execution_count": 9,
   "id": "469448ee-e15c-4f26-9e12-e8d4d2494687",
   "metadata": {
    "execution": {
     "iopub.execute_input": "2022-01-13T13:24:30.552454Z",
     "iopub.status.busy": "2022-01-13T13:24:30.552454Z",
     "iopub.status.idle": "2022-01-13T13:24:30.567252Z",
     "shell.execute_reply": "2022-01-13T13:24:30.567252Z",
     "shell.execute_reply.started": "2022-01-13T13:24:30.552454Z"
    },
    "tags": []
   },
   "outputs": [
    {
     "data": {
      "text/plain": [
       "id                 int64\n",
       "date              object\n",
       "price            float64\n",
       "bedrooms           int64\n",
       "bathrooms        float64\n",
       "sqft_living        int64\n",
       "sqft_lot           int64\n",
       "floors           float64\n",
       "waterfront         int64\n",
       "view               int64\n",
       "condition          int64\n",
       "grade              int64\n",
       "sqft_above         int64\n",
       "sqft_basement      int64\n",
       "yr_built           int64\n",
       "yr_renovated       int64\n",
       "zipcode            int64\n",
       "lat              float64\n",
       "long             float64\n",
       "sqft_living15      int64\n",
       "sqft_lot15         int64\n",
       "dtype: object"
      ]
     },
     "execution_count": 9,
     "metadata": {},
     "output_type": "execute_result"
    }
   ],
   "source": [
    "df.dtypes"
   ]
  },
  {
   "cell_type": "markdown",
   "id": "68c6d2dd",
   "metadata": {
    "heading_collapsed": true,
    "tags": [],
    "toc-hr-collapsed": true
   },
   "source": [
    "## **4. As necessidades do CEO da House Rocket:**"
   ]
  },
  {
   "cell_type": "markdown",
   "id": "25450981",
   "metadata": {
    "hidden": true
   },
   "source": [
    "### 1. Quantos imóveis possuem o número máximo de andares?\n",
    "  - Resposta - Contar linhas do dataset onde o atributo \"floors\" seja igual ao valor máximo do próprio atributo."
   ]
  },
  {
   "cell_type": "code",
   "execution_count": 10,
   "id": "8ac9dd6d",
   "metadata": {
    "ExecuteTime": {
     "end_time": "2022-01-10T23:25:49.986273Z",
     "start_time": "2022-01-10T23:25:49.976581Z"
    },
    "execution": {
     "iopub.execute_input": "2022-01-13T13:24:54.357342Z",
     "iopub.status.busy": "2022-01-13T13:24:54.357342Z",
     "iopub.status.idle": "2022-01-13T13:24:54.380097Z",
     "shell.execute_reply": "2022-01-13T13:24:54.380097Z",
     "shell.execute_reply.started": "2022-01-13T13:24:54.357342Z"
    },
    "hidden": true
   },
   "outputs": [
    {
     "data": {
      "text/plain": [
       "8"
      ]
     },
     "execution_count": 10,
     "metadata": {},
     "output_type": "execute_result"
    }
   ],
   "source": [
    "df[(df[\"floors\"] == df[\"floors\"].max())].shape[0]"
   ]
  },
  {
   "cell_type": "markdown",
   "id": "f17bf063",
   "metadata": {
    "hidden": true
   },
   "source": [
    "### 2. Criar uma classificação para os imóveis, classificando-os em alto e baixo padrão, de acordo com o preço.\n",
    "> *Acima de 540.000 = Alto Padrão | Abaixo de 540.000 = Baixo Padrão.*\n",
    "- Resposta - Criar um novo atributo no dataset chamado \"standard\". Para cada linha do dataset, comparar o atributo \"price\". Se o valor for MAIOR que 540.000 escrever \"high_standard\" no novo atributo \"standard\". Se o valor for MENOR que 540.000 escrever \"low_standard\" no novo atributo \"standard\"."
   ]
  },
  {
   "cell_type": "code",
   "execution_count": 85,
   "id": "24c76e48",
   "metadata": {
    "ExecuteTime": {
     "end_time": "2022-01-10T23:25:53.433940Z",
     "start_time": "2022-01-10T23:25:53.404856Z"
    },
    "hidden": true
   },
   "outputs": [
    {
     "data": {
      "text/html": [
       "<div>\n",
       "<style scoped>\n",
       "    .dataframe tbody tr th:only-of-type {\n",
       "        vertical-align: middle;\n",
       "    }\n",
       "\n",
       "    .dataframe tbody tr th {\n",
       "        vertical-align: top;\n",
       "    }\n",
       "\n",
       "    .dataframe thead th {\n",
       "        text-align: right;\n",
       "    }\n",
       "</style>\n",
       "<table border=\"1\" class=\"dataframe\">\n",
       "  <thead>\n",
       "    <tr style=\"text-align: right;\">\n",
       "      <th></th>\n",
       "      <th>id</th>\n",
       "      <th>date</th>\n",
       "      <th>price</th>\n",
       "      <th>bedrooms</th>\n",
       "      <th>bathrooms</th>\n",
       "      <th>sqft_living</th>\n",
       "      <th>sqft_lot</th>\n",
       "      <th>floors</th>\n",
       "      <th>waterfront</th>\n",
       "      <th>view</th>\n",
       "      <th>...</th>\n",
       "      <th>sqft_above</th>\n",
       "      <th>sqft_basement</th>\n",
       "      <th>yr_built</th>\n",
       "      <th>yr_renovated</th>\n",
       "      <th>zipcode</th>\n",
       "      <th>lat</th>\n",
       "      <th>long</th>\n",
       "      <th>sqft_living15</th>\n",
       "      <th>sqft_lot15</th>\n",
       "      <th>standard</th>\n",
       "    </tr>\n",
       "  </thead>\n",
       "  <tbody>\n",
       "    <tr>\n",
       "      <th>0</th>\n",
       "      <td>7129300520</td>\n",
       "      <td>20141013T000000</td>\n",
       "      <td>221900.0</td>\n",
       "      <td>3</td>\n",
       "      <td>1.00</td>\n",
       "      <td>1180</td>\n",
       "      <td>5650</td>\n",
       "      <td>1.0</td>\n",
       "      <td>0</td>\n",
       "      <td>0</td>\n",
       "      <td>...</td>\n",
       "      <td>1180</td>\n",
       "      <td>0</td>\n",
       "      <td>1955</td>\n",
       "      <td>0</td>\n",
       "      <td>98178</td>\n",
       "      <td>47.5112</td>\n",
       "      <td>-122.257</td>\n",
       "      <td>1340</td>\n",
       "      <td>5650</td>\n",
       "      <td>low_standard</td>\n",
       "    </tr>\n",
       "    <tr>\n",
       "      <th>1</th>\n",
       "      <td>6414100192</td>\n",
       "      <td>20141209T000000</td>\n",
       "      <td>538000.0</td>\n",
       "      <td>3</td>\n",
       "      <td>2.25</td>\n",
       "      <td>2570</td>\n",
       "      <td>7242</td>\n",
       "      <td>2.0</td>\n",
       "      <td>0</td>\n",
       "      <td>0</td>\n",
       "      <td>...</td>\n",
       "      <td>2170</td>\n",
       "      <td>400</td>\n",
       "      <td>1951</td>\n",
       "      <td>1991</td>\n",
       "      <td>98125</td>\n",
       "      <td>47.7210</td>\n",
       "      <td>-122.319</td>\n",
       "      <td>1690</td>\n",
       "      <td>7639</td>\n",
       "      <td>low_standard</td>\n",
       "    </tr>\n",
       "    <tr>\n",
       "      <th>2</th>\n",
       "      <td>5631500400</td>\n",
       "      <td>20150225T000000</td>\n",
       "      <td>180000.0</td>\n",
       "      <td>2</td>\n",
       "      <td>1.00</td>\n",
       "      <td>770</td>\n",
       "      <td>10000</td>\n",
       "      <td>1.0</td>\n",
       "      <td>0</td>\n",
       "      <td>0</td>\n",
       "      <td>...</td>\n",
       "      <td>770</td>\n",
       "      <td>0</td>\n",
       "      <td>1933</td>\n",
       "      <td>0</td>\n",
       "      <td>98028</td>\n",
       "      <td>47.7379</td>\n",
       "      <td>-122.233</td>\n",
       "      <td>2720</td>\n",
       "      <td>8062</td>\n",
       "      <td>low_standard</td>\n",
       "    </tr>\n",
       "    <tr>\n",
       "      <th>3</th>\n",
       "      <td>2487200875</td>\n",
       "      <td>20141209T000000</td>\n",
       "      <td>604000.0</td>\n",
       "      <td>4</td>\n",
       "      <td>3.00</td>\n",
       "      <td>1960</td>\n",
       "      <td>5000</td>\n",
       "      <td>1.0</td>\n",
       "      <td>0</td>\n",
       "      <td>0</td>\n",
       "      <td>...</td>\n",
       "      <td>1050</td>\n",
       "      <td>910</td>\n",
       "      <td>1965</td>\n",
       "      <td>0</td>\n",
       "      <td>98136</td>\n",
       "      <td>47.5208</td>\n",
       "      <td>-122.393</td>\n",
       "      <td>1360</td>\n",
       "      <td>5000</td>\n",
       "      <td>high_standard</td>\n",
       "    </tr>\n",
       "    <tr>\n",
       "      <th>4</th>\n",
       "      <td>1954400510</td>\n",
       "      <td>20150218T000000</td>\n",
       "      <td>510000.0</td>\n",
       "      <td>3</td>\n",
       "      <td>2.00</td>\n",
       "      <td>1680</td>\n",
       "      <td>8080</td>\n",
       "      <td>1.0</td>\n",
       "      <td>0</td>\n",
       "      <td>0</td>\n",
       "      <td>...</td>\n",
       "      <td>1680</td>\n",
       "      <td>0</td>\n",
       "      <td>1987</td>\n",
       "      <td>0</td>\n",
       "      <td>98074</td>\n",
       "      <td>47.6168</td>\n",
       "      <td>-122.045</td>\n",
       "      <td>1800</td>\n",
       "      <td>7503</td>\n",
       "      <td>low_standard</td>\n",
       "    </tr>\n",
       "  </tbody>\n",
       "</table>\n",
       "<p>5 rows × 22 columns</p>\n",
       "</div>"
      ],
      "text/plain": [
       "           id             date     price  bedrooms  bathrooms  sqft_living  \\\n",
       "0  7129300520  20141013T000000  221900.0         3       1.00         1180   \n",
       "1  6414100192  20141209T000000  538000.0         3       2.25         2570   \n",
       "2  5631500400  20150225T000000  180000.0         2       1.00          770   \n",
       "3  2487200875  20141209T000000  604000.0         4       3.00         1960   \n",
       "4  1954400510  20150218T000000  510000.0         3       2.00         1680   \n",
       "\n",
       "   sqft_lot  floors  waterfront  view  ...  sqft_above  sqft_basement  \\\n",
       "0      5650     1.0           0     0  ...        1180              0   \n",
       "1      7242     2.0           0     0  ...        2170            400   \n",
       "2     10000     1.0           0     0  ...         770              0   \n",
       "3      5000     1.0           0     0  ...        1050            910   \n",
       "4      8080     1.0           0     0  ...        1680              0   \n",
       "\n",
       "   yr_built  yr_renovated  zipcode      lat     long  sqft_living15  \\\n",
       "0      1955             0    98178  47.5112 -122.257           1340   \n",
       "1      1951          1991    98125  47.7210 -122.319           1690   \n",
       "2      1933             0    98028  47.7379 -122.233           2720   \n",
       "3      1965             0    98136  47.5208 -122.393           1360   \n",
       "4      1987             0    98074  47.6168 -122.045           1800   \n",
       "\n",
       "   sqft_lot15       standard  \n",
       "0        5650   low_standard  \n",
       "1        7639   low_standard  \n",
       "2        8062   low_standard  \n",
       "3        5000  high_standard  \n",
       "4        7503   low_standard  \n",
       "\n",
       "[5 rows x 22 columns]"
      ]
     },
     "execution_count": 85,
     "metadata": {},
     "output_type": "execute_result"
    }
   ],
   "source": [
    "df[\"standard\"] = np.where(df[\"price\"] > 540000, \"high_standard\", \"low_standard\")\n",
    "\n",
    "df.head()"
   ]
  },
  {
   "cell_type": "markdown",
   "id": "6b005299",
   "metadata": {
    "hidden": true
   },
   "source": [
    "### 3. Criar um relatório, ordenado pelo preço, contendo as seguintes informações:\n",
    "> *id do imóvel || data que o imóvel ficou disponível para compra || número de quartos || tamanho total do terreno || preço || classificação do imóvel (baixo ou alto padrão).*\n",
    "- Resposta - Selecionar os atributos solicitados ou excluir os atributos não solicitados, criando um arquivo *.CSV."
   ]
  },
  {
   "cell_type": "code",
   "execution_count": 121,
   "id": "33b06365",
   "metadata": {
    "ExecuteTime": {
     "end_time": "2022-01-11T00:01:59.089844Z",
     "start_time": "2022-01-11T00:01:58.875109Z"
    },
    "hidden": true
   },
   "outputs": [],
   "source": [
    "report = df[[\"id\", \"date\", \"bedrooms\", \"sqft_lot\", \"price\", \"standard\"]].sort_values(\n",
    "    \"price\", ascending=False\n",
    ")\n",
    "\n",
    "report.to_csv(\"../files/report1.csv\", index = False)"
   ]
  },
  {
   "cell_type": "markdown",
   "id": "1200b59d",
   "metadata": {
    "hidden": true
   },
   "source": [
    "### 4.1 Criar um mapa indicando a localização geográfica dos imóveis, utilizando a lib Plotly Express.\n",
    "- Resposta - Procurar no Python alguma biblioteca que contenha uma função que desenha mapas e aprender a utilizar essa função."
   ]
  },
  {
   "cell_type": "code",
   "execution_count": 18,
   "id": "834a354a",
   "metadata": {
    "ExecuteTime": {
     "end_time": "2022-01-06T13:38:11.465153Z",
     "start_time": "2022-01-06T13:38:09.016808Z"
    },
    "execution": {
     "iopub.execute_input": "2022-01-14T14:42:07.471042Z",
     "iopub.status.busy": "2022-01-14T14:42:07.471042Z",
     "iopub.status.idle": "2022-01-14T14:42:07.703383Z",
     "shell.execute_reply": "2022-01-14T14:42:07.702600Z",
     "shell.execute_reply.started": "2022-01-14T14:42:07.471042Z"
    },
    "hidden": true,
    "tags": []
   },
   "outputs": [
    {
     "data": {
      "text/html": [
       "<iframe\n",
       "    scrolling=\"no\"\n",
       "    width=\"100%\"\n",
       "    height=\"620\"\n",
       "    src=\"iframe_figures/figure_18.html\"\n",
       "    frameborder=\"0\"\n",
       "    allowfullscreen\n",
       "></iframe>\n"
      ]
     },
     "metadata": {},
     "output_type": "display_data"
    }
   ],
   "source": [
    "import plotly.express as px\n",
    "import plotly.io as pio\n",
    "pio.renderers.default = 'iframe'\n",
    "\n",
    "data = df[[\"id\", \"lat\", \"long\", \"price\"]]\n",
    "\n",
    "map = px.scatter_mapbox(\n",
    "    data,\n",
    "    lat=\"lat\",\n",
    "    lon=\"long\",\n",
    "    hover_name=\"id\",\n",
    "    hover_data=[\"price\"],\n",
    "    size=\"price\",\n",
    "    size_max=20,\n",
    "    color_discrete_sequence=[\"fuchsia\"],\n",
    "    zoom=8,\n",
    "    height=300,\n",
    ")\n",
    "\n",
    "map.update_layout(\n",
    "    mapbox_style=\"open-street-map\", height=600, margin={\"r\": 0, \"t\": 0, \"l\": 0, \"b\": 0}\n",
    ")\n",
    "\n",
    "map.show()\n",
    "# map.write_html('../data/kc_house_data_map_plotly.html')"
   ]
  },
  {
   "cell_type": "markdown",
   "id": "3ea37ca8",
   "metadata": {
    "hidden": true
   },
   "source": [
    "### 4.2 Criar um mapa indicando a localização geográfica dos imóveis, utilizando a lib Folium.\n",
    "- Resposta - Procurar no Python alguma biblioteca que contenha uma função que desenha mapas e aprender a utilizar essa função."
   ]
  },
  {
   "cell_type": "code",
   "execution_count": 16,
   "id": "7bdd216a",
   "metadata": {
    "ExecuteTime": {
     "end_time": "2022-01-06T13:41:19.468676Z",
     "start_time": "2022-01-06T13:40:39.159722Z"
    },
    "execution": {
     "iopub.execute_input": "2022-01-14T14:37:33.160416Z",
     "iopub.status.busy": "2022-01-14T14:37:33.160416Z",
     "iopub.status.idle": "2022-01-14T14:37:33.173150Z",
     "shell.execute_reply": "2022-01-14T14:37:33.173150Z",
     "shell.execute_reply.started": "2022-01-14T14:37:33.160416Z"
    },
    "hidden": true
   },
   "outputs": [],
   "source": [
    "# import folium\n",
    "\n",
    "# map = folium.Map(location=[47.606925251276, -122.33520611373727], zoom_start=9)\n",
    "\n",
    "# df.loc[:, [\"id\", \"lat\", \"long\", \"price\", \"zipcode\"]].apply(\n",
    "#    lambda row: folium.Circle(\n",
    "#        location=[row[\"lat\"], row[\"long\"]],\n",
    "#        tooltip=\"<b>Id:</b> \" + str(row[\"id\"]),\n",
    "#        popup=\"<b>Id:</b> \"\n",
    "#        + str(row[\"id\"])\n",
    "#        + \"<br><b>Price:</b> \"\n",
    "#        + str(row[\"price\"])\n",
    "#        + \"<br><b>Zipcode:</b> \"\n",
    "#        + str(row[\"zipcode\"]),\n",
    "#        radius=row[\"price\"] / 55000,\n",
    "#        color=\"crimson\",\n",
    "#        fill=True,\n",
    "#        fill_color=\"crimson\",\n",
    "#    ).add_to(map),\n",
    "#    axis=1,\n",
    "# )\n",
    "\n",
    "# map\n",
    "# map.save('../files/kc_house_data_map_folium.html')"
   ]
  },
  {
   "cell_type": "markdown",
   "id": "48733194",
   "metadata": {
    "heading_collapsed": true,
    "toc-hr-collapsed": true
   },
   "source": [
    "## **5. Exercícios:**"
   ]
  },
  {
   "cell_type": "markdown",
   "id": "e86932c6",
   "metadata": {
    "hidden": true
   },
   "source": [
    "### 1. Crie uma nova coluna chamada: \"property_age\".\n",
    "> Se o valor da coluna “date” for maior que 2014-01-01 => \"new_property\"  \n",
    "> Se o valor da coluna “date” for menor que 2014-01-01 => \"old_property\"\n",
    "- Resposta - Criar um novo atributo no dataset chamado \"property_age\". Para cada linha do dataset, comparar o atributo \"date\". Se o valor for MAIOR que \"2014-01-01\" escrever \"new_property\". Se o valor for MENOR que \"2014-01-01\" escrever \"old_property\"."
   ]
  },
  {
   "cell_type": "code",
   "execution_count": 86,
   "id": "08290005",
   "metadata": {
    "ExecuteTime": {
     "end_time": "2022-01-10T23:26:03.484653Z",
     "start_time": "2022-01-10T23:26:03.438297Z"
    },
    "hidden": true
   },
   "outputs": [
    {
     "data": {
      "text/html": [
       "<div>\n",
       "<style scoped>\n",
       "    .dataframe tbody tr th:only-of-type {\n",
       "        vertical-align: middle;\n",
       "    }\n",
       "\n",
       "    .dataframe tbody tr th {\n",
       "        vertical-align: top;\n",
       "    }\n",
       "\n",
       "    .dataframe thead th {\n",
       "        text-align: right;\n",
       "    }\n",
       "</style>\n",
       "<table border=\"1\" class=\"dataframe\">\n",
       "  <thead>\n",
       "    <tr style=\"text-align: right;\">\n",
       "      <th></th>\n",
       "      <th>id</th>\n",
       "      <th>date</th>\n",
       "      <th>price</th>\n",
       "      <th>bedrooms</th>\n",
       "      <th>bathrooms</th>\n",
       "      <th>sqft_living</th>\n",
       "      <th>sqft_lot</th>\n",
       "      <th>floors</th>\n",
       "      <th>waterfront</th>\n",
       "      <th>view</th>\n",
       "      <th>...</th>\n",
       "      <th>sqft_basement</th>\n",
       "      <th>yr_built</th>\n",
       "      <th>yr_renovated</th>\n",
       "      <th>zipcode</th>\n",
       "      <th>lat</th>\n",
       "      <th>long</th>\n",
       "      <th>sqft_living15</th>\n",
       "      <th>sqft_lot15</th>\n",
       "      <th>standard</th>\n",
       "      <th>property_age</th>\n",
       "    </tr>\n",
       "  </thead>\n",
       "  <tbody>\n",
       "    <tr>\n",
       "      <th>0</th>\n",
       "      <td>7129300520</td>\n",
       "      <td>2014-10-13</td>\n",
       "      <td>221900.0</td>\n",
       "      <td>3</td>\n",
       "      <td>1.00</td>\n",
       "      <td>1180</td>\n",
       "      <td>5650</td>\n",
       "      <td>1.0</td>\n",
       "      <td>0</td>\n",
       "      <td>0</td>\n",
       "      <td>...</td>\n",
       "      <td>0</td>\n",
       "      <td>1955</td>\n",
       "      <td>0</td>\n",
       "      <td>98178</td>\n",
       "      <td>47.5112</td>\n",
       "      <td>-122.257</td>\n",
       "      <td>1340</td>\n",
       "      <td>5650</td>\n",
       "      <td>low_standard</td>\n",
       "      <td>new_property</td>\n",
       "    </tr>\n",
       "    <tr>\n",
       "      <th>1</th>\n",
       "      <td>6414100192</td>\n",
       "      <td>2014-12-09</td>\n",
       "      <td>538000.0</td>\n",
       "      <td>3</td>\n",
       "      <td>2.25</td>\n",
       "      <td>2570</td>\n",
       "      <td>7242</td>\n",
       "      <td>2.0</td>\n",
       "      <td>0</td>\n",
       "      <td>0</td>\n",
       "      <td>...</td>\n",
       "      <td>400</td>\n",
       "      <td>1951</td>\n",
       "      <td>1991</td>\n",
       "      <td>98125</td>\n",
       "      <td>47.7210</td>\n",
       "      <td>-122.319</td>\n",
       "      <td>1690</td>\n",
       "      <td>7639</td>\n",
       "      <td>low_standard</td>\n",
       "      <td>new_property</td>\n",
       "    </tr>\n",
       "    <tr>\n",
       "      <th>2</th>\n",
       "      <td>5631500400</td>\n",
       "      <td>2015-02-25</td>\n",
       "      <td>180000.0</td>\n",
       "      <td>2</td>\n",
       "      <td>1.00</td>\n",
       "      <td>770</td>\n",
       "      <td>10000</td>\n",
       "      <td>1.0</td>\n",
       "      <td>0</td>\n",
       "      <td>0</td>\n",
       "      <td>...</td>\n",
       "      <td>0</td>\n",
       "      <td>1933</td>\n",
       "      <td>0</td>\n",
       "      <td>98028</td>\n",
       "      <td>47.7379</td>\n",
       "      <td>-122.233</td>\n",
       "      <td>2720</td>\n",
       "      <td>8062</td>\n",
       "      <td>low_standard</td>\n",
       "      <td>new_property</td>\n",
       "    </tr>\n",
       "    <tr>\n",
       "      <th>3</th>\n",
       "      <td>2487200875</td>\n",
       "      <td>2014-12-09</td>\n",
       "      <td>604000.0</td>\n",
       "      <td>4</td>\n",
       "      <td>3.00</td>\n",
       "      <td>1960</td>\n",
       "      <td>5000</td>\n",
       "      <td>1.0</td>\n",
       "      <td>0</td>\n",
       "      <td>0</td>\n",
       "      <td>...</td>\n",
       "      <td>910</td>\n",
       "      <td>1965</td>\n",
       "      <td>0</td>\n",
       "      <td>98136</td>\n",
       "      <td>47.5208</td>\n",
       "      <td>-122.393</td>\n",
       "      <td>1360</td>\n",
       "      <td>5000</td>\n",
       "      <td>high_standard</td>\n",
       "      <td>new_property</td>\n",
       "    </tr>\n",
       "    <tr>\n",
       "      <th>4</th>\n",
       "      <td>1954400510</td>\n",
       "      <td>2015-02-18</td>\n",
       "      <td>510000.0</td>\n",
       "      <td>3</td>\n",
       "      <td>2.00</td>\n",
       "      <td>1680</td>\n",
       "      <td>8080</td>\n",
       "      <td>1.0</td>\n",
       "      <td>0</td>\n",
       "      <td>0</td>\n",
       "      <td>...</td>\n",
       "      <td>0</td>\n",
       "      <td>1987</td>\n",
       "      <td>0</td>\n",
       "      <td>98074</td>\n",
       "      <td>47.6168</td>\n",
       "      <td>-122.045</td>\n",
       "      <td>1800</td>\n",
       "      <td>7503</td>\n",
       "      <td>low_standard</td>\n",
       "      <td>new_property</td>\n",
       "    </tr>\n",
       "  </tbody>\n",
       "</table>\n",
       "<p>5 rows × 23 columns</p>\n",
       "</div>"
      ],
      "text/plain": [
       "           id       date     price  bedrooms  bathrooms  sqft_living  \\\n",
       "0  7129300520 2014-10-13  221900.0         3       1.00         1180   \n",
       "1  6414100192 2014-12-09  538000.0         3       2.25         2570   \n",
       "2  5631500400 2015-02-25  180000.0         2       1.00          770   \n",
       "3  2487200875 2014-12-09  604000.0         4       3.00         1960   \n",
       "4  1954400510 2015-02-18  510000.0         3       2.00         1680   \n",
       "\n",
       "   sqft_lot  floors  waterfront  view  ...  sqft_basement  yr_built  \\\n",
       "0      5650     1.0           0     0  ...              0      1955   \n",
       "1      7242     2.0           0     0  ...            400      1951   \n",
       "2     10000     1.0           0     0  ...              0      1933   \n",
       "3      5000     1.0           0     0  ...            910      1965   \n",
       "4      8080     1.0           0     0  ...              0      1987   \n",
       "\n",
       "   yr_renovated  zipcode      lat     long  sqft_living15  sqft_lot15  \\\n",
       "0             0    98178  47.5112 -122.257           1340        5650   \n",
       "1          1991    98125  47.7210 -122.319           1690        7639   \n",
       "2             0    98028  47.7379 -122.233           2720        8062   \n",
       "3             0    98136  47.5208 -122.393           1360        5000   \n",
       "4             0    98074  47.6168 -122.045           1800        7503   \n",
       "\n",
       "        standard  property_age  \n",
       "0   low_standard  new_property  \n",
       "1   low_standard  new_property  \n",
       "2   low_standard  new_property  \n",
       "3  high_standard  new_property  \n",
       "4   low_standard  new_property  \n",
       "\n",
       "[5 rows x 23 columns]"
      ]
     },
     "execution_count": 86,
     "metadata": {},
     "output_type": "execute_result"
    }
   ],
   "source": [
    "df[\"date\"] = pd.to_datetime(df[\"date\"])\n",
    "\n",
    "df[\"property_age\"] = np.where(\n",
    "    df[\"date\"] > pd.to_datetime(\"2014-01-01\"), \"new_property\", \"old_property\"\n",
    ")\n",
    "\n",
    "df.head()"
   ]
  },
  {
   "cell_type": "code",
   "execution_count": null,
   "id": "06ee6acd",
   "metadata": {
    "hidden": true
   },
   "outputs": [],
   "source": [
    "# df[['id','date','property_age']][df['property_age'] == 'new_property']\n",
    "# df[['id','date','property_age']][df['property_age'] == 'old_property']"
   ]
  },
  {
   "cell_type": "markdown",
   "id": "e91f2c1c",
   "metadata": {
    "hidden": true
   },
   "source": [
    "### 2. Crie uma nova coluna chamada: \"dormitory_type\".\n",
    "> Se o valor da coluna “bedrooms” for igual a 1 => \"studio\"  \n",
    "> Se o valor da coluna “bedrooms” for igual a 2 => \"apartment\"  \n",
    "> Se o valor da coluna “bedrooms” for maior que 2 => \"house\"\n",
    "- Resposta - Criar um novo atributo no dataset chamado \"dormitory_type\". Para cada linha do dataset, comparar o atributo \"bedrooms\". Se o valor for IGUAL a 1 escrever \"studio\". Se o valor for IGUAL a 2 escrever \"apartament\". Se o valor for MAIOR que 2 escrever \"house\"."
   ]
  },
  {
   "cell_type": "code",
   "execution_count": 87,
   "id": "27467f61",
   "metadata": {
    "ExecuteTime": {
     "end_time": "2022-01-10T23:26:09.056564Z",
     "start_time": "2022-01-10T23:26:09.025407Z"
    },
    "hidden": true
   },
   "outputs": [
    {
     "data": {
      "text/html": [
       "<div>\n",
       "<style scoped>\n",
       "    .dataframe tbody tr th:only-of-type {\n",
       "        vertical-align: middle;\n",
       "    }\n",
       "\n",
       "    .dataframe tbody tr th {\n",
       "        vertical-align: top;\n",
       "    }\n",
       "\n",
       "    .dataframe thead th {\n",
       "        text-align: right;\n",
       "    }\n",
       "</style>\n",
       "<table border=\"1\" class=\"dataframe\">\n",
       "  <thead>\n",
       "    <tr style=\"text-align: right;\">\n",
       "      <th></th>\n",
       "      <th>id</th>\n",
       "      <th>date</th>\n",
       "      <th>price</th>\n",
       "      <th>bedrooms</th>\n",
       "      <th>bathrooms</th>\n",
       "      <th>sqft_living</th>\n",
       "      <th>sqft_lot</th>\n",
       "      <th>floors</th>\n",
       "      <th>waterfront</th>\n",
       "      <th>view</th>\n",
       "      <th>...</th>\n",
       "      <th>yr_built</th>\n",
       "      <th>yr_renovated</th>\n",
       "      <th>zipcode</th>\n",
       "      <th>lat</th>\n",
       "      <th>long</th>\n",
       "      <th>sqft_living15</th>\n",
       "      <th>sqft_lot15</th>\n",
       "      <th>standard</th>\n",
       "      <th>property_age</th>\n",
       "      <th>dormitory_type</th>\n",
       "    </tr>\n",
       "  </thead>\n",
       "  <tbody>\n",
       "    <tr>\n",
       "      <th>0</th>\n",
       "      <td>7129300520</td>\n",
       "      <td>2014-10-13</td>\n",
       "      <td>221900.0</td>\n",
       "      <td>3</td>\n",
       "      <td>1.00</td>\n",
       "      <td>1180</td>\n",
       "      <td>5650</td>\n",
       "      <td>1.0</td>\n",
       "      <td>0</td>\n",
       "      <td>0</td>\n",
       "      <td>...</td>\n",
       "      <td>1955</td>\n",
       "      <td>0</td>\n",
       "      <td>98178</td>\n",
       "      <td>47.5112</td>\n",
       "      <td>-122.257</td>\n",
       "      <td>1340</td>\n",
       "      <td>5650</td>\n",
       "      <td>low_standard</td>\n",
       "      <td>new_property</td>\n",
       "      <td>house</td>\n",
       "    </tr>\n",
       "    <tr>\n",
       "      <th>1</th>\n",
       "      <td>6414100192</td>\n",
       "      <td>2014-12-09</td>\n",
       "      <td>538000.0</td>\n",
       "      <td>3</td>\n",
       "      <td>2.25</td>\n",
       "      <td>2570</td>\n",
       "      <td>7242</td>\n",
       "      <td>2.0</td>\n",
       "      <td>0</td>\n",
       "      <td>0</td>\n",
       "      <td>...</td>\n",
       "      <td>1951</td>\n",
       "      <td>1991</td>\n",
       "      <td>98125</td>\n",
       "      <td>47.7210</td>\n",
       "      <td>-122.319</td>\n",
       "      <td>1690</td>\n",
       "      <td>7639</td>\n",
       "      <td>low_standard</td>\n",
       "      <td>new_property</td>\n",
       "      <td>house</td>\n",
       "    </tr>\n",
       "    <tr>\n",
       "      <th>2</th>\n",
       "      <td>5631500400</td>\n",
       "      <td>2015-02-25</td>\n",
       "      <td>180000.0</td>\n",
       "      <td>2</td>\n",
       "      <td>1.00</td>\n",
       "      <td>770</td>\n",
       "      <td>10000</td>\n",
       "      <td>1.0</td>\n",
       "      <td>0</td>\n",
       "      <td>0</td>\n",
       "      <td>...</td>\n",
       "      <td>1933</td>\n",
       "      <td>0</td>\n",
       "      <td>98028</td>\n",
       "      <td>47.7379</td>\n",
       "      <td>-122.233</td>\n",
       "      <td>2720</td>\n",
       "      <td>8062</td>\n",
       "      <td>low_standard</td>\n",
       "      <td>new_property</td>\n",
       "      <td>apartment</td>\n",
       "    </tr>\n",
       "    <tr>\n",
       "      <th>3</th>\n",
       "      <td>2487200875</td>\n",
       "      <td>2014-12-09</td>\n",
       "      <td>604000.0</td>\n",
       "      <td>4</td>\n",
       "      <td>3.00</td>\n",
       "      <td>1960</td>\n",
       "      <td>5000</td>\n",
       "      <td>1.0</td>\n",
       "      <td>0</td>\n",
       "      <td>0</td>\n",
       "      <td>...</td>\n",
       "      <td>1965</td>\n",
       "      <td>0</td>\n",
       "      <td>98136</td>\n",
       "      <td>47.5208</td>\n",
       "      <td>-122.393</td>\n",
       "      <td>1360</td>\n",
       "      <td>5000</td>\n",
       "      <td>high_standard</td>\n",
       "      <td>new_property</td>\n",
       "      <td>house</td>\n",
       "    </tr>\n",
       "    <tr>\n",
       "      <th>4</th>\n",
       "      <td>1954400510</td>\n",
       "      <td>2015-02-18</td>\n",
       "      <td>510000.0</td>\n",
       "      <td>3</td>\n",
       "      <td>2.00</td>\n",
       "      <td>1680</td>\n",
       "      <td>8080</td>\n",
       "      <td>1.0</td>\n",
       "      <td>0</td>\n",
       "      <td>0</td>\n",
       "      <td>...</td>\n",
       "      <td>1987</td>\n",
       "      <td>0</td>\n",
       "      <td>98074</td>\n",
       "      <td>47.6168</td>\n",
       "      <td>-122.045</td>\n",
       "      <td>1800</td>\n",
       "      <td>7503</td>\n",
       "      <td>low_standard</td>\n",
       "      <td>new_property</td>\n",
       "      <td>house</td>\n",
       "    </tr>\n",
       "  </tbody>\n",
       "</table>\n",
       "<p>5 rows × 24 columns</p>\n",
       "</div>"
      ],
      "text/plain": [
       "           id       date     price  bedrooms  bathrooms  sqft_living  \\\n",
       "0  7129300520 2014-10-13  221900.0         3       1.00         1180   \n",
       "1  6414100192 2014-12-09  538000.0         3       2.25         2570   \n",
       "2  5631500400 2015-02-25  180000.0         2       1.00          770   \n",
       "3  2487200875 2014-12-09  604000.0         4       3.00         1960   \n",
       "4  1954400510 2015-02-18  510000.0         3       2.00         1680   \n",
       "\n",
       "   sqft_lot  floors  waterfront  view  ...  yr_built  yr_renovated  zipcode  \\\n",
       "0      5650     1.0           0     0  ...      1955             0    98178   \n",
       "1      7242     2.0           0     0  ...      1951          1991    98125   \n",
       "2     10000     1.0           0     0  ...      1933             0    98028   \n",
       "3      5000     1.0           0     0  ...      1965             0    98136   \n",
       "4      8080     1.0           0     0  ...      1987             0    98074   \n",
       "\n",
       "       lat     long  sqft_living15  sqft_lot15       standard  property_age  \\\n",
       "0  47.5112 -122.257           1340        5650   low_standard  new_property   \n",
       "1  47.7210 -122.319           1690        7639   low_standard  new_property   \n",
       "2  47.7379 -122.233           2720        8062   low_standard  new_property   \n",
       "3  47.5208 -122.393           1360        5000  high_standard  new_property   \n",
       "4  47.6168 -122.045           1800        7503   low_standard  new_property   \n",
       "\n",
       "   dormitory_type  \n",
       "0           house  \n",
       "1           house  \n",
       "2       apartment  \n",
       "3           house  \n",
       "4           house  \n",
       "\n",
       "[5 rows x 24 columns]"
      ]
     },
     "execution_count": 87,
     "metadata": {},
     "output_type": "execute_result"
    }
   ],
   "source": [
    "conditions = [(df[\"bedrooms\"] == 1), (df[\"bedrooms\"] == 2), (df[\"bedrooms\"] > 2)]\n",
    "\n",
    "values = [\"studio\", \"apartment\", \"house\"]\n",
    "\n",
    "df[\"dormitory_type\"] = np.select(conditions, values)\n",
    "\n",
    "df.head()"
   ]
  },
  {
   "cell_type": "markdown",
   "id": "f4e18792",
   "metadata": {
    "hidden": true
   },
   "source": [
    "### 3. Crie uma nova coluna chamada: \"condition_type\".\n",
    "> Se o valor da coluna \"condition\" for menor ou igual a 2 => \"bad\"  \n",
    "> Se o valor da coluna \"condition\" for igual a 3 ou 4 => \"regular\"  \n",
    "> Se o valor da coluna \"condition\" for igual a 5 => \"good\"\n",
    "- Resposta - Criar um novo atributo no dataset chamado \"condition_type\". Para cada linha do dataset, comparar o atributo \"condition_type\". Se o valor for MENOR OU IGUAL a 2 escrever \"bad\". Se o valor for IGUAL a 3 ou 4 escrever \"regular\". Se o valor for IGUAL a 5 escrever \"good\"."
   ]
  },
  {
   "cell_type": "code",
   "execution_count": 88,
   "id": "bc10cf33",
   "metadata": {
    "ExecuteTime": {
     "end_time": "2022-01-10T23:26:15.555408Z",
     "start_time": "2022-01-10T23:26:15.525728Z"
    },
    "hidden": true
   },
   "outputs": [
    {
     "data": {
      "text/html": [
       "<div>\n",
       "<style scoped>\n",
       "    .dataframe tbody tr th:only-of-type {\n",
       "        vertical-align: middle;\n",
       "    }\n",
       "\n",
       "    .dataframe tbody tr th {\n",
       "        vertical-align: top;\n",
       "    }\n",
       "\n",
       "    .dataframe thead th {\n",
       "        text-align: right;\n",
       "    }\n",
       "</style>\n",
       "<table border=\"1\" class=\"dataframe\">\n",
       "  <thead>\n",
       "    <tr style=\"text-align: right;\">\n",
       "      <th></th>\n",
       "      <th>id</th>\n",
       "      <th>date</th>\n",
       "      <th>price</th>\n",
       "      <th>bedrooms</th>\n",
       "      <th>bathrooms</th>\n",
       "      <th>sqft_living</th>\n",
       "      <th>sqft_lot</th>\n",
       "      <th>floors</th>\n",
       "      <th>waterfront</th>\n",
       "      <th>view</th>\n",
       "      <th>...</th>\n",
       "      <th>yr_renovated</th>\n",
       "      <th>zipcode</th>\n",
       "      <th>lat</th>\n",
       "      <th>long</th>\n",
       "      <th>sqft_living15</th>\n",
       "      <th>sqft_lot15</th>\n",
       "      <th>standard</th>\n",
       "      <th>property_age</th>\n",
       "      <th>dormitory_type</th>\n",
       "      <th>condition_type</th>\n",
       "    </tr>\n",
       "  </thead>\n",
       "  <tbody>\n",
       "    <tr>\n",
       "      <th>0</th>\n",
       "      <td>7129300520</td>\n",
       "      <td>2014-10-13</td>\n",
       "      <td>221900.0</td>\n",
       "      <td>3</td>\n",
       "      <td>1.00</td>\n",
       "      <td>1180</td>\n",
       "      <td>5650</td>\n",
       "      <td>1.0</td>\n",
       "      <td>0</td>\n",
       "      <td>0</td>\n",
       "      <td>...</td>\n",
       "      <td>0</td>\n",
       "      <td>98178</td>\n",
       "      <td>47.5112</td>\n",
       "      <td>-122.257</td>\n",
       "      <td>1340</td>\n",
       "      <td>5650</td>\n",
       "      <td>low_standard</td>\n",
       "      <td>new_property</td>\n",
       "      <td>house</td>\n",
       "      <td>regular</td>\n",
       "    </tr>\n",
       "    <tr>\n",
       "      <th>1</th>\n",
       "      <td>6414100192</td>\n",
       "      <td>2014-12-09</td>\n",
       "      <td>538000.0</td>\n",
       "      <td>3</td>\n",
       "      <td>2.25</td>\n",
       "      <td>2570</td>\n",
       "      <td>7242</td>\n",
       "      <td>2.0</td>\n",
       "      <td>0</td>\n",
       "      <td>0</td>\n",
       "      <td>...</td>\n",
       "      <td>1991</td>\n",
       "      <td>98125</td>\n",
       "      <td>47.7210</td>\n",
       "      <td>-122.319</td>\n",
       "      <td>1690</td>\n",
       "      <td>7639</td>\n",
       "      <td>low_standard</td>\n",
       "      <td>new_property</td>\n",
       "      <td>house</td>\n",
       "      <td>regular</td>\n",
       "    </tr>\n",
       "    <tr>\n",
       "      <th>2</th>\n",
       "      <td>5631500400</td>\n",
       "      <td>2015-02-25</td>\n",
       "      <td>180000.0</td>\n",
       "      <td>2</td>\n",
       "      <td>1.00</td>\n",
       "      <td>770</td>\n",
       "      <td>10000</td>\n",
       "      <td>1.0</td>\n",
       "      <td>0</td>\n",
       "      <td>0</td>\n",
       "      <td>...</td>\n",
       "      <td>0</td>\n",
       "      <td>98028</td>\n",
       "      <td>47.7379</td>\n",
       "      <td>-122.233</td>\n",
       "      <td>2720</td>\n",
       "      <td>8062</td>\n",
       "      <td>low_standard</td>\n",
       "      <td>new_property</td>\n",
       "      <td>apartment</td>\n",
       "      <td>regular</td>\n",
       "    </tr>\n",
       "    <tr>\n",
       "      <th>3</th>\n",
       "      <td>2487200875</td>\n",
       "      <td>2014-12-09</td>\n",
       "      <td>604000.0</td>\n",
       "      <td>4</td>\n",
       "      <td>3.00</td>\n",
       "      <td>1960</td>\n",
       "      <td>5000</td>\n",
       "      <td>1.0</td>\n",
       "      <td>0</td>\n",
       "      <td>0</td>\n",
       "      <td>...</td>\n",
       "      <td>0</td>\n",
       "      <td>98136</td>\n",
       "      <td>47.5208</td>\n",
       "      <td>-122.393</td>\n",
       "      <td>1360</td>\n",
       "      <td>5000</td>\n",
       "      <td>high_standard</td>\n",
       "      <td>new_property</td>\n",
       "      <td>house</td>\n",
       "      <td>good</td>\n",
       "    </tr>\n",
       "    <tr>\n",
       "      <th>4</th>\n",
       "      <td>1954400510</td>\n",
       "      <td>2015-02-18</td>\n",
       "      <td>510000.0</td>\n",
       "      <td>3</td>\n",
       "      <td>2.00</td>\n",
       "      <td>1680</td>\n",
       "      <td>8080</td>\n",
       "      <td>1.0</td>\n",
       "      <td>0</td>\n",
       "      <td>0</td>\n",
       "      <td>...</td>\n",
       "      <td>0</td>\n",
       "      <td>98074</td>\n",
       "      <td>47.6168</td>\n",
       "      <td>-122.045</td>\n",
       "      <td>1800</td>\n",
       "      <td>7503</td>\n",
       "      <td>low_standard</td>\n",
       "      <td>new_property</td>\n",
       "      <td>house</td>\n",
       "      <td>regular</td>\n",
       "    </tr>\n",
       "  </tbody>\n",
       "</table>\n",
       "<p>5 rows × 25 columns</p>\n",
       "</div>"
      ],
      "text/plain": [
       "           id       date     price  bedrooms  bathrooms  sqft_living  \\\n",
       "0  7129300520 2014-10-13  221900.0         3       1.00         1180   \n",
       "1  6414100192 2014-12-09  538000.0         3       2.25         2570   \n",
       "2  5631500400 2015-02-25  180000.0         2       1.00          770   \n",
       "3  2487200875 2014-12-09  604000.0         4       3.00         1960   \n",
       "4  1954400510 2015-02-18  510000.0         3       2.00         1680   \n",
       "\n",
       "   sqft_lot  floors  waterfront  view  ...  yr_renovated  zipcode      lat  \\\n",
       "0      5650     1.0           0     0  ...             0    98178  47.5112   \n",
       "1      7242     2.0           0     0  ...          1991    98125  47.7210   \n",
       "2     10000     1.0           0     0  ...             0    98028  47.7379   \n",
       "3      5000     1.0           0     0  ...             0    98136  47.5208   \n",
       "4      8080     1.0           0     0  ...             0    98074  47.6168   \n",
       "\n",
       "      long  sqft_living15  sqft_lot15       standard  property_age  \\\n",
       "0 -122.257           1340        5650   low_standard  new_property   \n",
       "1 -122.319           1690        7639   low_standard  new_property   \n",
       "2 -122.233           2720        8062   low_standard  new_property   \n",
       "3 -122.393           1360        5000  high_standard  new_property   \n",
       "4 -122.045           1800        7503   low_standard  new_property   \n",
       "\n",
       "   dormitory_type  condition_type  \n",
       "0           house         regular  \n",
       "1           house         regular  \n",
       "2       apartment         regular  \n",
       "3           house            good  \n",
       "4           house         regular  \n",
       "\n",
       "[5 rows x 25 columns]"
      ]
     },
     "execution_count": 88,
     "metadata": {},
     "output_type": "execute_result"
    }
   ],
   "source": [
    "conditions = [\n",
    "    (df[\"condition\"] <= 2),\n",
    "    (df[\"condition\"] == 3) | (df[\"condition\"] == 4),\n",
    "    (df[\"condition\"] == 5),\n",
    "]\n",
    "\n",
    "values = [\"bad\", \"regular\", \"good\"]\n",
    "\n",
    "df[\"condition_type\"] = np.select(conditions, values)\n",
    "\n",
    "df.head()"
   ]
  },
  {
   "cell_type": "markdown",
   "id": "e192ffb5",
   "metadata": {
    "hidden": true
   },
   "source": [
    "### 4. Modifique o TIPO da coluna \"condition\" para STRING.\n",
    "- Resposta - Modificar o tipo do atributo \"condition\" para string."
   ]
  },
  {
   "cell_type": "code",
   "execution_count": 89,
   "id": "09f00faa",
   "metadata": {
    "ExecuteTime": {
     "end_time": "2022-01-10T23:26:21.887532Z",
     "start_time": "2022-01-10T23:26:21.838425Z"
    },
    "hidden": true
   },
   "outputs": [
    {
     "data": {
      "text/plain": [
       "id                         int64\n",
       "date              datetime64[ns]\n",
       "price                    float64\n",
       "bedrooms                   int64\n",
       "bathrooms                float64\n",
       "sqft_living                int64\n",
       "sqft_lot                   int64\n",
       "floors                   float64\n",
       "waterfront                 int64\n",
       "view                       int64\n",
       "condition                 object\n",
       "grade                      int64\n",
       "sqft_above                 int64\n",
       "sqft_basement              int64\n",
       "yr_built                   int64\n",
       "yr_renovated               int64\n",
       "zipcode                    int64\n",
       "lat                      float64\n",
       "long                     float64\n",
       "sqft_living15              int64\n",
       "sqft_lot15                 int64\n",
       "standard                  object\n",
       "property_age              object\n",
       "dormitory_type            object\n",
       "condition_type            object\n",
       "dtype: object"
      ]
     },
     "execution_count": 89,
     "metadata": {},
     "output_type": "execute_result"
    }
   ],
   "source": [
    "df[\"condition\"] = df[\"condition\"].astype(str)\n",
    "\n",
    "df.dtypes"
   ]
  },
  {
   "cell_type": "markdown",
   "id": "a43c98dd",
   "metadata": {
    "hidden": true
   },
   "source": [
    "### 5. Delete as colunas: \"sqft_living15\" e \"sqft_lot15\".\n",
    "- Resposta - Excluir do dataset os atributos \"sqft_living15\" e \"sqft_lot15\"."
   ]
  },
  {
   "cell_type": "code",
   "execution_count": 90,
   "id": "2e650971",
   "metadata": {
    "ExecuteTime": {
     "end_time": "2022-01-10T23:26:36.055843Z",
     "start_time": "2022-01-10T23:26:36.015492Z"
    },
    "hidden": true
   },
   "outputs": [
    {
     "data": {
      "text/html": [
       "<div>\n",
       "<style scoped>\n",
       "    .dataframe tbody tr th:only-of-type {\n",
       "        vertical-align: middle;\n",
       "    }\n",
       "\n",
       "    .dataframe tbody tr th {\n",
       "        vertical-align: top;\n",
       "    }\n",
       "\n",
       "    .dataframe thead th {\n",
       "        text-align: right;\n",
       "    }\n",
       "</style>\n",
       "<table border=\"1\" class=\"dataframe\">\n",
       "  <thead>\n",
       "    <tr style=\"text-align: right;\">\n",
       "      <th></th>\n",
       "      <th>id</th>\n",
       "      <th>date</th>\n",
       "      <th>price</th>\n",
       "      <th>bedrooms</th>\n",
       "      <th>bathrooms</th>\n",
       "      <th>sqft_living</th>\n",
       "      <th>sqft_lot</th>\n",
       "      <th>floors</th>\n",
       "      <th>waterfront</th>\n",
       "      <th>view</th>\n",
       "      <th>...</th>\n",
       "      <th>sqft_basement</th>\n",
       "      <th>yr_built</th>\n",
       "      <th>yr_renovated</th>\n",
       "      <th>zipcode</th>\n",
       "      <th>lat</th>\n",
       "      <th>long</th>\n",
       "      <th>standard</th>\n",
       "      <th>property_age</th>\n",
       "      <th>dormitory_type</th>\n",
       "      <th>condition_type</th>\n",
       "    </tr>\n",
       "  </thead>\n",
       "  <tbody>\n",
       "    <tr>\n",
       "      <th>0</th>\n",
       "      <td>7129300520</td>\n",
       "      <td>2014-10-13</td>\n",
       "      <td>221900.0</td>\n",
       "      <td>3</td>\n",
       "      <td>1.00</td>\n",
       "      <td>1180</td>\n",
       "      <td>5650</td>\n",
       "      <td>1.0</td>\n",
       "      <td>0</td>\n",
       "      <td>0</td>\n",
       "      <td>...</td>\n",
       "      <td>0</td>\n",
       "      <td>1955</td>\n",
       "      <td>0</td>\n",
       "      <td>98178</td>\n",
       "      <td>47.5112</td>\n",
       "      <td>-122.257</td>\n",
       "      <td>low_standard</td>\n",
       "      <td>new_property</td>\n",
       "      <td>house</td>\n",
       "      <td>regular</td>\n",
       "    </tr>\n",
       "    <tr>\n",
       "      <th>1</th>\n",
       "      <td>6414100192</td>\n",
       "      <td>2014-12-09</td>\n",
       "      <td>538000.0</td>\n",
       "      <td>3</td>\n",
       "      <td>2.25</td>\n",
       "      <td>2570</td>\n",
       "      <td>7242</td>\n",
       "      <td>2.0</td>\n",
       "      <td>0</td>\n",
       "      <td>0</td>\n",
       "      <td>...</td>\n",
       "      <td>400</td>\n",
       "      <td>1951</td>\n",
       "      <td>1991</td>\n",
       "      <td>98125</td>\n",
       "      <td>47.7210</td>\n",
       "      <td>-122.319</td>\n",
       "      <td>low_standard</td>\n",
       "      <td>new_property</td>\n",
       "      <td>house</td>\n",
       "      <td>regular</td>\n",
       "    </tr>\n",
       "    <tr>\n",
       "      <th>2</th>\n",
       "      <td>5631500400</td>\n",
       "      <td>2015-02-25</td>\n",
       "      <td>180000.0</td>\n",
       "      <td>2</td>\n",
       "      <td>1.00</td>\n",
       "      <td>770</td>\n",
       "      <td>10000</td>\n",
       "      <td>1.0</td>\n",
       "      <td>0</td>\n",
       "      <td>0</td>\n",
       "      <td>...</td>\n",
       "      <td>0</td>\n",
       "      <td>1933</td>\n",
       "      <td>0</td>\n",
       "      <td>98028</td>\n",
       "      <td>47.7379</td>\n",
       "      <td>-122.233</td>\n",
       "      <td>low_standard</td>\n",
       "      <td>new_property</td>\n",
       "      <td>apartment</td>\n",
       "      <td>regular</td>\n",
       "    </tr>\n",
       "    <tr>\n",
       "      <th>3</th>\n",
       "      <td>2487200875</td>\n",
       "      <td>2014-12-09</td>\n",
       "      <td>604000.0</td>\n",
       "      <td>4</td>\n",
       "      <td>3.00</td>\n",
       "      <td>1960</td>\n",
       "      <td>5000</td>\n",
       "      <td>1.0</td>\n",
       "      <td>0</td>\n",
       "      <td>0</td>\n",
       "      <td>...</td>\n",
       "      <td>910</td>\n",
       "      <td>1965</td>\n",
       "      <td>0</td>\n",
       "      <td>98136</td>\n",
       "      <td>47.5208</td>\n",
       "      <td>-122.393</td>\n",
       "      <td>high_standard</td>\n",
       "      <td>new_property</td>\n",
       "      <td>house</td>\n",
       "      <td>good</td>\n",
       "    </tr>\n",
       "    <tr>\n",
       "      <th>4</th>\n",
       "      <td>1954400510</td>\n",
       "      <td>2015-02-18</td>\n",
       "      <td>510000.0</td>\n",
       "      <td>3</td>\n",
       "      <td>2.00</td>\n",
       "      <td>1680</td>\n",
       "      <td>8080</td>\n",
       "      <td>1.0</td>\n",
       "      <td>0</td>\n",
       "      <td>0</td>\n",
       "      <td>...</td>\n",
       "      <td>0</td>\n",
       "      <td>1987</td>\n",
       "      <td>0</td>\n",
       "      <td>98074</td>\n",
       "      <td>47.6168</td>\n",
       "      <td>-122.045</td>\n",
       "      <td>low_standard</td>\n",
       "      <td>new_property</td>\n",
       "      <td>house</td>\n",
       "      <td>regular</td>\n",
       "    </tr>\n",
       "  </tbody>\n",
       "</table>\n",
       "<p>5 rows × 23 columns</p>\n",
       "</div>"
      ],
      "text/plain": [
       "           id       date     price  bedrooms  bathrooms  sqft_living  \\\n",
       "0  7129300520 2014-10-13  221900.0         3       1.00         1180   \n",
       "1  6414100192 2014-12-09  538000.0         3       2.25         2570   \n",
       "2  5631500400 2015-02-25  180000.0         2       1.00          770   \n",
       "3  2487200875 2014-12-09  604000.0         4       3.00         1960   \n",
       "4  1954400510 2015-02-18  510000.0         3       2.00         1680   \n",
       "\n",
       "   sqft_lot  floors  waterfront  view  ... sqft_basement  yr_built  \\\n",
       "0      5650     1.0           0     0  ...             0      1955   \n",
       "1      7242     2.0           0     0  ...           400      1951   \n",
       "2     10000     1.0           0     0  ...             0      1933   \n",
       "3      5000     1.0           0     0  ...           910      1965   \n",
       "4      8080     1.0           0     0  ...             0      1987   \n",
       "\n",
       "   yr_renovated  zipcode      lat     long       standard  property_age  \\\n",
       "0             0    98178  47.5112 -122.257   low_standard  new_property   \n",
       "1          1991    98125  47.7210 -122.319   low_standard  new_property   \n",
       "2             0    98028  47.7379 -122.233   low_standard  new_property   \n",
       "3             0    98136  47.5208 -122.393  high_standard  new_property   \n",
       "4             0    98074  47.6168 -122.045   low_standard  new_property   \n",
       "\n",
       "   dormitory_type condition_type  \n",
       "0           house        regular  \n",
       "1           house        regular  \n",
       "2       apartment        regular  \n",
       "3           house           good  \n",
       "4           house        regular  \n",
       "\n",
       "[5 rows x 23 columns]"
      ]
     },
     "execution_count": 90,
     "metadata": {},
     "output_type": "execute_result"
    }
   ],
   "source": [
    "columns = [\"sqft_living15\", \"sqft_lot15\"]\n",
    "\n",
    "df.drop(columns, inplace=True, axis=1)\n",
    "\n",
    "df.head()"
   ]
  },
  {
   "cell_type": "markdown",
   "id": "9ccff724",
   "metadata": {
    "hidden": true
   },
   "source": [
    "### 6. Modifique o TIPO da coluna \"yr_built\" para DATE.\n",
    "- Resposta - Modificar o tipo do atributo \"yr_built\" para date."
   ]
  },
  {
   "cell_type": "code",
   "execution_count": 91,
   "id": "211efc00",
   "metadata": {
    "ExecuteTime": {
     "end_time": "2022-01-10T23:26:45.405228Z",
     "start_time": "2022-01-10T23:26:45.386841Z"
    },
    "hidden": true
   },
   "outputs": [
    {
     "data": {
      "text/plain": [
       "id                         int64\n",
       "date              datetime64[ns]\n",
       "price                    float64\n",
       "bedrooms                   int64\n",
       "bathrooms                float64\n",
       "sqft_living                int64\n",
       "sqft_lot                   int64\n",
       "floors                   float64\n",
       "waterfront                 int64\n",
       "view                       int64\n",
       "condition                 object\n",
       "grade                      int64\n",
       "sqft_above                 int64\n",
       "sqft_basement              int64\n",
       "yr_built          datetime64[ns]\n",
       "yr_renovated               int64\n",
       "zipcode                    int64\n",
       "lat                      float64\n",
       "long                     float64\n",
       "standard                  object\n",
       "property_age              object\n",
       "dormitory_type            object\n",
       "condition_type            object\n",
       "dtype: object"
      ]
     },
     "execution_count": 91,
     "metadata": {},
     "output_type": "execute_result"
    }
   ],
   "source": [
    "df[\"yr_built\"] = pd.to_datetime(df[\"yr_built\"], format=\"%Y\")\n",
    "\n",
    "df.dtypes"
   ]
  },
  {
   "cell_type": "markdown",
   "id": "0b637c5e",
   "metadata": {
    "hidden": true
   },
   "source": [
    "### 7. Modifique o TIPO da coluna \"yr_renovated\" para DATE.\n",
    "- Resposta - Modificar o tipo do atributo \"yr_renovated\" para date."
   ]
  },
  {
   "cell_type": "code",
   "execution_count": 92,
   "id": "3c92aa92",
   "metadata": {
    "ExecuteTime": {
     "end_time": "2022-01-10T23:26:51.536715Z",
     "start_time": "2022-01-10T23:26:51.508417Z"
    },
    "hidden": true
   },
   "outputs": [
    {
     "data": {
      "text/plain": [
       "id                         int64\n",
       "date              datetime64[ns]\n",
       "price                    float64\n",
       "bedrooms                   int64\n",
       "bathrooms                float64\n",
       "sqft_living                int64\n",
       "sqft_lot                   int64\n",
       "floors                   float64\n",
       "waterfront                 int64\n",
       "view                       int64\n",
       "condition                 object\n",
       "grade                      int64\n",
       "sqft_above                 int64\n",
       "sqft_basement              int64\n",
       "yr_built          datetime64[ns]\n",
       "yr_renovated      datetime64[ns]\n",
       "zipcode                    int64\n",
       "lat                      float64\n",
       "long                     float64\n",
       "standard                  object\n",
       "property_age              object\n",
       "dormitory_type            object\n",
       "condition_type            object\n",
       "dtype: object"
      ]
     },
     "execution_count": 92,
     "metadata": {},
     "output_type": "execute_result"
    }
   ],
   "source": [
    "df[\"yr_renovated\"] = pd.to_datetime(df[\"yr_renovated\"], format=\"%Y\", errors=\"coerce\")\n",
    "\n",
    "df.dtypes"
   ]
  },
  {
   "cell_type": "markdown",
   "id": "ba6d1d22",
   "metadata": {
    "hidden": true
   },
   "source": [
    "### 8. Qual a data mais antiga de construção de um imóvel?\n",
    "- Resposta - Obter o valor mínimo do atributo \"yr_built\"."
   ]
  },
  {
   "cell_type": "code",
   "execution_count": 94,
   "id": "f27f836a",
   "metadata": {
    "ExecuteTime": {
     "end_time": "2022-01-10T23:27:23.869660Z",
     "start_time": "2022-01-10T23:27:23.857852Z"
    },
    "hidden": true
   },
   "outputs": [
    {
     "data": {
      "text/plain": [
       "'01/01/1900'"
      ]
     },
     "execution_count": 94,
     "metadata": {},
     "output_type": "execute_result"
    }
   ],
   "source": [
    "df[\"yr_built\"].min().strftime(\"%d/%m/%Y\")"
   ]
  },
  {
   "cell_type": "markdown",
   "id": "6aeed87c",
   "metadata": {
    "hidden": true
   },
   "source": [
    "### 9. Qual a data mais antiga de renovação de um imóvel?\n",
    "- Resposta - Obter o valor mínimo do atributo \"yr_renovated\", excluindo os valores zerados."
   ]
  },
  {
   "cell_type": "code",
   "execution_count": 95,
   "id": "c5509892",
   "metadata": {
    "ExecuteTime": {
     "end_time": "2022-01-10T23:27:27.398804Z",
     "start_time": "2022-01-10T23:27:27.385603Z"
    },
    "hidden": true
   },
   "outputs": [
    {
     "data": {
      "text/plain": [
       "'01/01/1934'"
      ]
     },
     "execution_count": 95,
     "metadata": {},
     "output_type": "execute_result"
    }
   ],
   "source": [
    "df[\"yr_renovated\"].loc[df[\"yr_renovated\"] != 0].min().strftime(\"%d/%m/%Y\")"
   ]
  },
  {
   "cell_type": "markdown",
   "id": "a3a2ad4c",
   "metadata": {
    "hidden": true
   },
   "source": [
    "### 10. Quantos imóveis tem 2 andares?\n",
    "- Resposta - Contar linhas do dataset onde o atributo \"floors\" seja igual a 2."
   ]
  },
  {
   "cell_type": "code",
   "execution_count": 96,
   "id": "3701338c",
   "metadata": {
    "ExecuteTime": {
     "end_time": "2022-01-10T23:27:59.456313Z",
     "start_time": "2022-01-10T23:27:59.439620Z"
    },
    "hidden": true
   },
   "outputs": [
    {
     "data": {
      "text/plain": [
       "8241"
      ]
     },
     "execution_count": 96,
     "metadata": {},
     "output_type": "execute_result"
    }
   ],
   "source": [
    "df.loc[df[\"floors\"] == 2].shape[0]"
   ]
  },
  {
   "cell_type": "markdown",
   "id": "4b68f1e2",
   "metadata": {
    "hidden": true
   },
   "source": [
    "### 11. Quantos imóveis estão com a condição igual a \"regular\"?\n",
    "- Resposta - Contar linhas do dataset onde o atributo \"condition_type\" seja igual a \"regular\"."
   ]
  },
  {
   "cell_type": "code",
   "execution_count": 99,
   "id": "0c0fea49",
   "metadata": {
    "ExecuteTime": {
     "end_time": "2022-01-10T23:28:12.088709Z",
     "start_time": "2022-01-10T23:28:12.070953Z"
    },
    "hidden": true
   },
   "outputs": [
    {
     "data": {
      "text/plain": [
       "19710"
      ]
     },
     "execution_count": 99,
     "metadata": {},
     "output_type": "execute_result"
    }
   ],
   "source": [
    "df.loc[df[\"condition_type\"] == \"regular\"].shape[0]"
   ]
  },
  {
   "cell_type": "markdown",
   "id": "73334c0e",
   "metadata": {
    "hidden": true
   },
   "source": [
    "### 12. Quantos imóveis estão com a condição igual a \"bad\" e possuem \"vista para a água\"?\n",
    "- Resposta - Contar linhas do dataset onde o atributo \"condition_type\" seja igual a \"bad\" e o atributo \"waterfront\" seja diferente de 0."
   ]
  },
  {
   "cell_type": "code",
   "execution_count": 98,
   "id": "fde666ed",
   "metadata": {
    "ExecuteTime": {
     "end_time": "2022-01-10T23:28:09.604048Z",
     "start_time": "2022-01-10T23:28:09.593494Z"
    },
    "hidden": true
   },
   "outputs": [
    {
     "data": {
      "text/plain": [
       "2"
      ]
     },
     "execution_count": 98,
     "metadata": {},
     "output_type": "execute_result"
    }
   ],
   "source": [
    "df.loc[(df[\"condition_type\"] == \"bad\") & (df[\"waterfront\"] != 0)].shape[0]"
   ]
  },
  {
   "cell_type": "markdown",
   "id": "d684c186",
   "metadata": {
    "hidden": true
   },
   "source": [
    "### 13. Quantos imóveis estão com a condição igual a \"good\" e são \"new_property\"?\n",
    "- Resposta - Contar linhas do dataset onde o atributo \"condition_type\" seja igual a \"good\" e o atributo \"property_age\" seja igual a \"new_property\"."
   ]
  },
  {
   "cell_type": "code",
   "execution_count": 100,
   "id": "d508f286",
   "metadata": {
    "ExecuteTime": {
     "end_time": "2022-01-10T23:28:17.452263Z",
     "start_time": "2022-01-10T23:28:17.420869Z"
    },
    "hidden": true
   },
   "outputs": [
    {
     "data": {
      "text/plain": [
       "1701"
      ]
     },
     "execution_count": 100,
     "metadata": {},
     "output_type": "execute_result"
    }
   ],
   "source": [
    "df.loc[(df[\"condition_type\"] == \"good\") & (df[\"property_age\"] == \"new_property\")].shape[0]"
   ]
  },
  {
   "cell_type": "markdown",
   "id": "f7387f78",
   "metadata": {
    "hidden": true
   },
   "source": [
    "### 14. Qual o valor do imóvel mais caro do tipo \"studio\"?\n",
    "- Resposta - Obter as linhas do dataset onde o atributo \"dormitory_type\" seja igual a \"studio\" e depois obter o valor máximo da coluna \"price\"."
   ]
  },
  {
   "cell_type": "code",
   "execution_count": 101,
   "id": "3774c6e9",
   "metadata": {
    "ExecuteTime": {
     "end_time": "2022-01-10T23:28:20.394684Z",
     "start_time": "2022-01-10T23:28:20.378841Z"
    },
    "hidden": true
   },
   "outputs": [
    {
     "data": {
      "text/plain": [
       "1247000.0"
      ]
     },
     "execution_count": 101,
     "metadata": {},
     "output_type": "execute_result"
    }
   ],
   "source": [
    "df[\"price\"].loc[df[\"dormitory_type\"] == \"studio\"].max()"
   ]
  },
  {
   "cell_type": "markdown",
   "id": "f0713841",
   "metadata": {
    "hidden": true
   },
   "source": [
    "### 15. Quantos imóveis do tipo \"apartment\" foram reformados em 2015?\n",
    "- Resposta - Contar linhas do dataset onde o atributo \"dormitory_type\" seja igual a \"apartment\" e o atributo \"yr_renovated\" seja igual a \"2015-01-01\"."
   ]
  },
  {
   "cell_type": "code",
   "execution_count": 105,
   "id": "127420b8",
   "metadata": {
    "ExecuteTime": {
     "end_time": "2022-01-10T23:30:38.147795Z",
     "start_time": "2022-01-10T23:30:38.125344Z"
    },
    "hidden": true
   },
   "outputs": [
    {
     "data": {
      "text/plain": [
       "0"
      ]
     },
     "execution_count": 105,
     "metadata": {},
     "output_type": "execute_result"
    }
   ],
   "source": [
    "df.loc[(df[\"dormitory_type\"] == \"apartment\") & (df[\"yr_renovated\"] == \"2015-01-01\")].shape[0]"
   ]
  },
  {
   "cell_type": "markdown",
   "id": "4133f29e",
   "metadata": {
    "hidden": true
   },
   "source": [
    "### 16. Qual o maior número de quartos que um imóvel do tipo \"house\" possui?\n",
    "- Resposta - Obter as linhas do dataset onde o atributo \"dormitory_type\" seja igual a \"house\" e depois obter o valor máximo da coluna \"bedrooms\"."
   ]
  },
  {
   "cell_type": "code",
   "execution_count": 106,
   "id": "caa99f4e",
   "metadata": {
    "ExecuteTime": {
     "end_time": "2022-01-10T23:30:43.297475Z",
     "start_time": "2022-01-10T23:30:43.289499Z"
    },
    "hidden": true
   },
   "outputs": [
    {
     "data": {
      "text/plain": [
       "33"
      ]
     },
     "execution_count": 106,
     "metadata": {},
     "output_type": "execute_result"
    }
   ],
   "source": [
    "df[\"bedrooms\"].loc[df[\"dormitory_type\"] == \"house\"].max()"
   ]
  },
  {
   "cell_type": "markdown",
   "id": "d1308c8a",
   "metadata": {
    "hidden": true
   },
   "source": [
    "### 17. Quantos imóveis \"new_property\" foram reformados no ano de 2014?\n",
    "- Resposta - Contar linhas do dataset onde o atributo \"property_age\" seja igual a \"new_property\" e o atributo \"yr_renovated\" seja igual a \"2014-01-01\"."
   ]
  },
  {
   "cell_type": "code",
   "execution_count": 107,
   "id": "c4b4cb88",
   "metadata": {
    "ExecuteTime": {
     "end_time": "2022-01-10T23:30:49.380320Z",
     "start_time": "2022-01-10T23:30:49.356444Z"
    },
    "hidden": true
   },
   "outputs": [
    {
     "data": {
      "text/plain": [
       "91"
      ]
     },
     "execution_count": 107,
     "metadata": {},
     "output_type": "execute_result"
    }
   ],
   "source": [
    "df.loc[(df[\"property_age\"] == \"new_property\") & (df[\"yr_renovated\"] == \"2014-01-01\")].shape[0]"
   ]
  },
  {
   "cell_type": "markdown",
   "id": "8250c004",
   "metadata": {
    "hidden": true
   },
   "source": [
    "### 18. Selecione as colunas \"id\", \"date\", \"price\", \"floors\" e \"zipcode\" pelo método:\n",
    "> a. Direto pelo nome das colunas  \n",
    "> b. Pelos índices  \n",
    "> c. Pelos índices das linhas e o nome das colunas  \n",
    "> d. Pelos índices booleanos"
   ]
  },
  {
   "cell_type": "code",
   "execution_count": 110,
   "id": "25303753",
   "metadata": {
    "ExecuteTime": {
     "end_time": "2022-01-10T23:39:23.305443Z",
     "start_time": "2022-01-10T23:39:23.278718Z"
    },
    "hidden": true
   },
   "outputs": [
    {
     "data": {
      "text/html": [
       "<div>\n",
       "<style scoped>\n",
       "    .dataframe tbody tr th:only-of-type {\n",
       "        vertical-align: middle;\n",
       "    }\n",
       "\n",
       "    .dataframe tbody tr th {\n",
       "        vertical-align: top;\n",
       "    }\n",
       "\n",
       "    .dataframe thead th {\n",
       "        text-align: right;\n",
       "    }\n",
       "</style>\n",
       "<table border=\"1\" class=\"dataframe\">\n",
       "  <thead>\n",
       "    <tr style=\"text-align: right;\">\n",
       "      <th></th>\n",
       "      <th>id</th>\n",
       "      <th>date</th>\n",
       "      <th>price</th>\n",
       "      <th>floors</th>\n",
       "      <th>zipcode</th>\n",
       "    </tr>\n",
       "  </thead>\n",
       "  <tbody>\n",
       "    <tr>\n",
       "      <th>0</th>\n",
       "      <td>7129300520</td>\n",
       "      <td>2014-10-13</td>\n",
       "      <td>221900.0</td>\n",
       "      <td>1.0</td>\n",
       "      <td>98178</td>\n",
       "    </tr>\n",
       "    <tr>\n",
       "      <th>1</th>\n",
       "      <td>6414100192</td>\n",
       "      <td>2014-12-09</td>\n",
       "      <td>538000.0</td>\n",
       "      <td>2.0</td>\n",
       "      <td>98125</td>\n",
       "    </tr>\n",
       "    <tr>\n",
       "      <th>2</th>\n",
       "      <td>5631500400</td>\n",
       "      <td>2015-02-25</td>\n",
       "      <td>180000.0</td>\n",
       "      <td>1.0</td>\n",
       "      <td>98028</td>\n",
       "    </tr>\n",
       "    <tr>\n",
       "      <th>3</th>\n",
       "      <td>2487200875</td>\n",
       "      <td>2014-12-09</td>\n",
       "      <td>604000.0</td>\n",
       "      <td>1.0</td>\n",
       "      <td>98136</td>\n",
       "    </tr>\n",
       "    <tr>\n",
       "      <th>4</th>\n",
       "      <td>1954400510</td>\n",
       "      <td>2015-02-18</td>\n",
       "      <td>510000.0</td>\n",
       "      <td>1.0</td>\n",
       "      <td>98074</td>\n",
       "    </tr>\n",
       "    <tr>\n",
       "      <th>...</th>\n",
       "      <td>...</td>\n",
       "      <td>...</td>\n",
       "      <td>...</td>\n",
       "      <td>...</td>\n",
       "      <td>...</td>\n",
       "    </tr>\n",
       "    <tr>\n",
       "      <th>21608</th>\n",
       "      <td>263000018</td>\n",
       "      <td>2014-05-21</td>\n",
       "      <td>360000.0</td>\n",
       "      <td>3.0</td>\n",
       "      <td>98103</td>\n",
       "    </tr>\n",
       "    <tr>\n",
       "      <th>21609</th>\n",
       "      <td>6600060120</td>\n",
       "      <td>2015-02-23</td>\n",
       "      <td>400000.0</td>\n",
       "      <td>2.0</td>\n",
       "      <td>98146</td>\n",
       "    </tr>\n",
       "    <tr>\n",
       "      <th>21610</th>\n",
       "      <td>1523300141</td>\n",
       "      <td>2014-06-23</td>\n",
       "      <td>402101.0</td>\n",
       "      <td>2.0</td>\n",
       "      <td>98144</td>\n",
       "    </tr>\n",
       "    <tr>\n",
       "      <th>21611</th>\n",
       "      <td>291310100</td>\n",
       "      <td>2015-01-16</td>\n",
       "      <td>400000.0</td>\n",
       "      <td>2.0</td>\n",
       "      <td>98027</td>\n",
       "    </tr>\n",
       "    <tr>\n",
       "      <th>21612</th>\n",
       "      <td>1523300157</td>\n",
       "      <td>2014-10-15</td>\n",
       "      <td>325000.0</td>\n",
       "      <td>2.0</td>\n",
       "      <td>98144</td>\n",
       "    </tr>\n",
       "  </tbody>\n",
       "</table>\n",
       "<p>21613 rows × 5 columns</p>\n",
       "</div>"
      ],
      "text/plain": [
       "               id       date     price  floors  zipcode\n",
       "0      7129300520 2014-10-13  221900.0     1.0    98178\n",
       "1      6414100192 2014-12-09  538000.0     2.0    98125\n",
       "2      5631500400 2015-02-25  180000.0     1.0    98028\n",
       "3      2487200875 2014-12-09  604000.0     1.0    98136\n",
       "4      1954400510 2015-02-18  510000.0     1.0    98074\n",
       "...           ...        ...       ...     ...      ...\n",
       "21608   263000018 2014-05-21  360000.0     3.0    98103\n",
       "21609  6600060120 2015-02-23  400000.0     2.0    98146\n",
       "21610  1523300141 2014-06-23  402101.0     2.0    98144\n",
       "21611   291310100 2015-01-16  400000.0     2.0    98027\n",
       "21612  1523300157 2014-10-15  325000.0     2.0    98144\n",
       "\n",
       "[21613 rows x 5 columns]"
      ]
     },
     "execution_count": 110,
     "metadata": {},
     "output_type": "execute_result"
    }
   ],
   "source": [
    "# a. Direto pelo nome das colunas\n",
    "df[[\"id\", \"date\", \"price\", \"floors\", \"zipcode\"]]"
   ]
  },
  {
   "cell_type": "code",
   "execution_count": 113,
   "id": "d932a303",
   "metadata": {
    "ExecuteTime": {
     "end_time": "2022-01-10T23:41:04.170845Z",
     "start_time": "2022-01-10T23:41:04.145549Z"
    },
    "hidden": true
   },
   "outputs": [
    {
     "data": {
      "text/html": [
       "<div>\n",
       "<style scoped>\n",
       "    .dataframe tbody tr th:only-of-type {\n",
       "        vertical-align: middle;\n",
       "    }\n",
       "\n",
       "    .dataframe tbody tr th {\n",
       "        vertical-align: top;\n",
       "    }\n",
       "\n",
       "    .dataframe thead th {\n",
       "        text-align: right;\n",
       "    }\n",
       "</style>\n",
       "<table border=\"1\" class=\"dataframe\">\n",
       "  <thead>\n",
       "    <tr style=\"text-align: right;\">\n",
       "      <th></th>\n",
       "      <th>id</th>\n",
       "      <th>date</th>\n",
       "      <th>price</th>\n",
       "      <th>floors</th>\n",
       "      <th>zipcode</th>\n",
       "    </tr>\n",
       "  </thead>\n",
       "  <tbody>\n",
       "    <tr>\n",
       "      <th>0</th>\n",
       "      <td>7129300520</td>\n",
       "      <td>2014-10-13</td>\n",
       "      <td>221900.0</td>\n",
       "      <td>1.0</td>\n",
       "      <td>98178</td>\n",
       "    </tr>\n",
       "    <tr>\n",
       "      <th>1</th>\n",
       "      <td>6414100192</td>\n",
       "      <td>2014-12-09</td>\n",
       "      <td>538000.0</td>\n",
       "      <td>2.0</td>\n",
       "      <td>98125</td>\n",
       "    </tr>\n",
       "    <tr>\n",
       "      <th>2</th>\n",
       "      <td>5631500400</td>\n",
       "      <td>2015-02-25</td>\n",
       "      <td>180000.0</td>\n",
       "      <td>1.0</td>\n",
       "      <td>98028</td>\n",
       "    </tr>\n",
       "    <tr>\n",
       "      <th>3</th>\n",
       "      <td>2487200875</td>\n",
       "      <td>2014-12-09</td>\n",
       "      <td>604000.0</td>\n",
       "      <td>1.0</td>\n",
       "      <td>98136</td>\n",
       "    </tr>\n",
       "    <tr>\n",
       "      <th>4</th>\n",
       "      <td>1954400510</td>\n",
       "      <td>2015-02-18</td>\n",
       "      <td>510000.0</td>\n",
       "      <td>1.0</td>\n",
       "      <td>98074</td>\n",
       "    </tr>\n",
       "    <tr>\n",
       "      <th>...</th>\n",
       "      <td>...</td>\n",
       "      <td>...</td>\n",
       "      <td>...</td>\n",
       "      <td>...</td>\n",
       "      <td>...</td>\n",
       "    </tr>\n",
       "    <tr>\n",
       "      <th>21608</th>\n",
       "      <td>263000018</td>\n",
       "      <td>2014-05-21</td>\n",
       "      <td>360000.0</td>\n",
       "      <td>3.0</td>\n",
       "      <td>98103</td>\n",
       "    </tr>\n",
       "    <tr>\n",
       "      <th>21609</th>\n",
       "      <td>6600060120</td>\n",
       "      <td>2015-02-23</td>\n",
       "      <td>400000.0</td>\n",
       "      <td>2.0</td>\n",
       "      <td>98146</td>\n",
       "    </tr>\n",
       "    <tr>\n",
       "      <th>21610</th>\n",
       "      <td>1523300141</td>\n",
       "      <td>2014-06-23</td>\n",
       "      <td>402101.0</td>\n",
       "      <td>2.0</td>\n",
       "      <td>98144</td>\n",
       "    </tr>\n",
       "    <tr>\n",
       "      <th>21611</th>\n",
       "      <td>291310100</td>\n",
       "      <td>2015-01-16</td>\n",
       "      <td>400000.0</td>\n",
       "      <td>2.0</td>\n",
       "      <td>98027</td>\n",
       "    </tr>\n",
       "    <tr>\n",
       "      <th>21612</th>\n",
       "      <td>1523300157</td>\n",
       "      <td>2014-10-15</td>\n",
       "      <td>325000.0</td>\n",
       "      <td>2.0</td>\n",
       "      <td>98144</td>\n",
       "    </tr>\n",
       "  </tbody>\n",
       "</table>\n",
       "<p>21613 rows × 5 columns</p>\n",
       "</div>"
      ],
      "text/plain": [
       "               id       date     price  floors  zipcode\n",
       "0      7129300520 2014-10-13  221900.0     1.0    98178\n",
       "1      6414100192 2014-12-09  538000.0     2.0    98125\n",
       "2      5631500400 2015-02-25  180000.0     1.0    98028\n",
       "3      2487200875 2014-12-09  604000.0     1.0    98136\n",
       "4      1954400510 2015-02-18  510000.0     1.0    98074\n",
       "...           ...        ...       ...     ...      ...\n",
       "21608   263000018 2014-05-21  360000.0     3.0    98103\n",
       "21609  6600060120 2015-02-23  400000.0     2.0    98146\n",
       "21610  1523300141 2014-06-23  402101.0     2.0    98144\n",
       "21611   291310100 2015-01-16  400000.0     2.0    98027\n",
       "21612  1523300157 2014-10-15  325000.0     2.0    98144\n",
       "\n",
       "[21613 rows x 5 columns]"
      ]
     },
     "execution_count": 113,
     "metadata": {},
     "output_type": "execute_result"
    }
   ],
   "source": [
    "# b. Pelos índices\n",
    "df.iloc[:, [0, 1, 2, 7, 16]]"
   ]
  },
  {
   "cell_type": "code",
   "execution_count": 115,
   "id": "b8712145",
   "metadata": {
    "ExecuteTime": {
     "end_time": "2022-01-10T23:43:39.017674Z",
     "start_time": "2022-01-10T23:43:38.981188Z"
    },
    "hidden": true
   },
   "outputs": [
    {
     "data": {
      "text/html": [
       "<div>\n",
       "<style scoped>\n",
       "    .dataframe tbody tr th:only-of-type {\n",
       "        vertical-align: middle;\n",
       "    }\n",
       "\n",
       "    .dataframe tbody tr th {\n",
       "        vertical-align: top;\n",
       "    }\n",
       "\n",
       "    .dataframe thead th {\n",
       "        text-align: right;\n",
       "    }\n",
       "</style>\n",
       "<table border=\"1\" class=\"dataframe\">\n",
       "  <thead>\n",
       "    <tr style=\"text-align: right;\">\n",
       "      <th></th>\n",
       "      <th>id</th>\n",
       "      <th>date</th>\n",
       "      <th>price</th>\n",
       "      <th>floors</th>\n",
       "      <th>zipcode</th>\n",
       "    </tr>\n",
       "  </thead>\n",
       "  <tbody>\n",
       "    <tr>\n",
       "      <th>0</th>\n",
       "      <td>7129300520</td>\n",
       "      <td>2014-10-13</td>\n",
       "      <td>221900.0</td>\n",
       "      <td>1.0</td>\n",
       "      <td>98178</td>\n",
       "    </tr>\n",
       "    <tr>\n",
       "      <th>1</th>\n",
       "      <td>6414100192</td>\n",
       "      <td>2014-12-09</td>\n",
       "      <td>538000.0</td>\n",
       "      <td>2.0</td>\n",
       "      <td>98125</td>\n",
       "    </tr>\n",
       "    <tr>\n",
       "      <th>2</th>\n",
       "      <td>5631500400</td>\n",
       "      <td>2015-02-25</td>\n",
       "      <td>180000.0</td>\n",
       "      <td>1.0</td>\n",
       "      <td>98028</td>\n",
       "    </tr>\n",
       "    <tr>\n",
       "      <th>3</th>\n",
       "      <td>2487200875</td>\n",
       "      <td>2014-12-09</td>\n",
       "      <td>604000.0</td>\n",
       "      <td>1.0</td>\n",
       "      <td>98136</td>\n",
       "    </tr>\n",
       "    <tr>\n",
       "      <th>4</th>\n",
       "      <td>1954400510</td>\n",
       "      <td>2015-02-18</td>\n",
       "      <td>510000.0</td>\n",
       "      <td>1.0</td>\n",
       "      <td>98074</td>\n",
       "    </tr>\n",
       "    <tr>\n",
       "      <th>...</th>\n",
       "      <td>...</td>\n",
       "      <td>...</td>\n",
       "      <td>...</td>\n",
       "      <td>...</td>\n",
       "      <td>...</td>\n",
       "    </tr>\n",
       "    <tr>\n",
       "      <th>21608</th>\n",
       "      <td>263000018</td>\n",
       "      <td>2014-05-21</td>\n",
       "      <td>360000.0</td>\n",
       "      <td>3.0</td>\n",
       "      <td>98103</td>\n",
       "    </tr>\n",
       "    <tr>\n",
       "      <th>21609</th>\n",
       "      <td>6600060120</td>\n",
       "      <td>2015-02-23</td>\n",
       "      <td>400000.0</td>\n",
       "      <td>2.0</td>\n",
       "      <td>98146</td>\n",
       "    </tr>\n",
       "    <tr>\n",
       "      <th>21610</th>\n",
       "      <td>1523300141</td>\n",
       "      <td>2014-06-23</td>\n",
       "      <td>402101.0</td>\n",
       "      <td>2.0</td>\n",
       "      <td>98144</td>\n",
       "    </tr>\n",
       "    <tr>\n",
       "      <th>21611</th>\n",
       "      <td>291310100</td>\n",
       "      <td>2015-01-16</td>\n",
       "      <td>400000.0</td>\n",
       "      <td>2.0</td>\n",
       "      <td>98027</td>\n",
       "    </tr>\n",
       "    <tr>\n",
       "      <th>21612</th>\n",
       "      <td>1523300157</td>\n",
       "      <td>2014-10-15</td>\n",
       "      <td>325000.0</td>\n",
       "      <td>2.0</td>\n",
       "      <td>98144</td>\n",
       "    </tr>\n",
       "  </tbody>\n",
       "</table>\n",
       "<p>21613 rows × 5 columns</p>\n",
       "</div>"
      ],
      "text/plain": [
       "               id       date     price  floors  zipcode\n",
       "0      7129300520 2014-10-13  221900.0     1.0    98178\n",
       "1      6414100192 2014-12-09  538000.0     2.0    98125\n",
       "2      5631500400 2015-02-25  180000.0     1.0    98028\n",
       "3      2487200875 2014-12-09  604000.0     1.0    98136\n",
       "4      1954400510 2015-02-18  510000.0     1.0    98074\n",
       "...           ...        ...       ...     ...      ...\n",
       "21608   263000018 2014-05-21  360000.0     3.0    98103\n",
       "21609  6600060120 2015-02-23  400000.0     2.0    98146\n",
       "21610  1523300141 2014-06-23  402101.0     2.0    98144\n",
       "21611   291310100 2015-01-16  400000.0     2.0    98027\n",
       "21612  1523300157 2014-10-15  325000.0     2.0    98144\n",
       "\n",
       "[21613 rows x 5 columns]"
      ]
     },
     "execution_count": 115,
     "metadata": {},
     "output_type": "execute_result"
    }
   ],
   "source": [
    "# c. Pelos índices das linhas e o nome das colunas\n",
    "df.loc[:, [\"id\", \"date\", \"price\", \"floors\", \"zipcode\"]]"
   ]
  },
  {
   "cell_type": "code",
   "execution_count": 118,
   "id": "9129dcb0",
   "metadata": {
    "ExecuteTime": {
     "end_time": "2022-01-10T23:49:32.138526Z",
     "start_time": "2022-01-10T23:49:32.119932Z"
    },
    "hidden": true
   },
   "outputs": [
    {
     "data": {
      "text/html": [
       "<div>\n",
       "<style scoped>\n",
       "    .dataframe tbody tr th:only-of-type {\n",
       "        vertical-align: middle;\n",
       "    }\n",
       "\n",
       "    .dataframe tbody tr th {\n",
       "        vertical-align: top;\n",
       "    }\n",
       "\n",
       "    .dataframe thead th {\n",
       "        text-align: right;\n",
       "    }\n",
       "</style>\n",
       "<table border=\"1\" class=\"dataframe\">\n",
       "  <thead>\n",
       "    <tr style=\"text-align: right;\">\n",
       "      <th></th>\n",
       "      <th>id</th>\n",
       "      <th>date</th>\n",
       "      <th>price</th>\n",
       "      <th>floors</th>\n",
       "      <th>zipcode</th>\n",
       "    </tr>\n",
       "  </thead>\n",
       "  <tbody>\n",
       "    <tr>\n",
       "      <th>0</th>\n",
       "      <td>7129300520</td>\n",
       "      <td>2014-10-13</td>\n",
       "      <td>221900.0</td>\n",
       "      <td>1.0</td>\n",
       "      <td>98178</td>\n",
       "    </tr>\n",
       "    <tr>\n",
       "      <th>1</th>\n",
       "      <td>6414100192</td>\n",
       "      <td>2014-12-09</td>\n",
       "      <td>538000.0</td>\n",
       "      <td>2.0</td>\n",
       "      <td>98125</td>\n",
       "    </tr>\n",
       "    <tr>\n",
       "      <th>2</th>\n",
       "      <td>5631500400</td>\n",
       "      <td>2015-02-25</td>\n",
       "      <td>180000.0</td>\n",
       "      <td>1.0</td>\n",
       "      <td>98028</td>\n",
       "    </tr>\n",
       "    <tr>\n",
       "      <th>3</th>\n",
       "      <td>2487200875</td>\n",
       "      <td>2014-12-09</td>\n",
       "      <td>604000.0</td>\n",
       "      <td>1.0</td>\n",
       "      <td>98136</td>\n",
       "    </tr>\n",
       "    <tr>\n",
       "      <th>4</th>\n",
       "      <td>1954400510</td>\n",
       "      <td>2015-02-18</td>\n",
       "      <td>510000.0</td>\n",
       "      <td>1.0</td>\n",
       "      <td>98074</td>\n",
       "    </tr>\n",
       "    <tr>\n",
       "      <th>...</th>\n",
       "      <td>...</td>\n",
       "      <td>...</td>\n",
       "      <td>...</td>\n",
       "      <td>...</td>\n",
       "      <td>...</td>\n",
       "    </tr>\n",
       "    <tr>\n",
       "      <th>21608</th>\n",
       "      <td>263000018</td>\n",
       "      <td>2014-05-21</td>\n",
       "      <td>360000.0</td>\n",
       "      <td>3.0</td>\n",
       "      <td>98103</td>\n",
       "    </tr>\n",
       "    <tr>\n",
       "      <th>21609</th>\n",
       "      <td>6600060120</td>\n",
       "      <td>2015-02-23</td>\n",
       "      <td>400000.0</td>\n",
       "      <td>2.0</td>\n",
       "      <td>98146</td>\n",
       "    </tr>\n",
       "    <tr>\n",
       "      <th>21610</th>\n",
       "      <td>1523300141</td>\n",
       "      <td>2014-06-23</td>\n",
       "      <td>402101.0</td>\n",
       "      <td>2.0</td>\n",
       "      <td>98144</td>\n",
       "    </tr>\n",
       "    <tr>\n",
       "      <th>21611</th>\n",
       "      <td>291310100</td>\n",
       "      <td>2015-01-16</td>\n",
       "      <td>400000.0</td>\n",
       "      <td>2.0</td>\n",
       "      <td>98027</td>\n",
       "    </tr>\n",
       "    <tr>\n",
       "      <th>21612</th>\n",
       "      <td>1523300157</td>\n",
       "      <td>2014-10-15</td>\n",
       "      <td>325000.0</td>\n",
       "      <td>2.0</td>\n",
       "      <td>98144</td>\n",
       "    </tr>\n",
       "  </tbody>\n",
       "</table>\n",
       "<p>21613 rows × 5 columns</p>\n",
       "</div>"
      ],
      "text/plain": [
       "               id       date     price  floors  zipcode\n",
       "0      7129300520 2014-10-13  221900.0     1.0    98178\n",
       "1      6414100192 2014-12-09  538000.0     2.0    98125\n",
       "2      5631500400 2015-02-25  180000.0     1.0    98028\n",
       "3      2487200875 2014-12-09  604000.0     1.0    98136\n",
       "4      1954400510 2015-02-18  510000.0     1.0    98074\n",
       "...           ...        ...       ...     ...      ...\n",
       "21608   263000018 2014-05-21  360000.0     3.0    98103\n",
       "21609  6600060120 2015-02-23  400000.0     2.0    98146\n",
       "21610  1523300141 2014-06-23  402101.0     2.0    98144\n",
       "21611   291310100 2015-01-16  400000.0     2.0    98027\n",
       "21612  1523300157 2014-10-15  325000.0     2.0    98144\n",
       "\n",
       "[21613 rows x 5 columns]"
      ]
     },
     "execution_count": 118,
     "metadata": {},
     "output_type": "execute_result"
    }
   ],
   "source": [
    "# d. Pelos índices booleanos\n",
    "cols = [\n",
    "    True,\n",
    "    True,\n",
    "    True,\n",
    "    False,\n",
    "    False,\n",
    "    False,\n",
    "    False,\n",
    "    True,\n",
    "    False,\n",
    "    False,\n",
    "    False,\n",
    "    False,\n",
    "    False,\n",
    "    False,\n",
    "    False,\n",
    "    False,\n",
    "    True,\n",
    "    False,\n",
    "    False,\n",
    "    False,\n",
    "    False,\n",
    "    False,\n",
    "    False,\n",
    "]\n",
    "df.loc[:, cols]"
   ]
  },
  {
   "cell_type": "markdown",
   "id": "0ff60b9f",
   "metadata": {
    "hidden": true
   },
   "source": [
    "### 19. Salve um arquivo .CSV com somente as colunas do item 18.\n",
    "- Resposta - Selecionar os atributos solicitados ou excluir os atributos não solicitados, criando um arquivo *.CSV."
   ]
  },
  {
   "cell_type": "code",
   "execution_count": 120,
   "id": "349243d6",
   "metadata": {
    "ExecuteTime": {
     "end_time": "2022-01-11T00:00:08.459871Z",
     "start_time": "2022-01-11T00:00:08.248461Z"
    },
    "hidden": true
   },
   "outputs": [],
   "source": [
    "report = df[[\"id\", \"date\", \"price\", \"floors\", \"zipcode\"]].sort_values(\n",
    "    \"price\", ascending=False\n",
    ")\n",
    "\n",
    "report.to_csv(\"../files/report2.csv\", index = False)"
   ]
  },
  {
   "cell_type": "markdown",
   "id": "07c0459c",
   "metadata": {
    "hidden": true
   },
   "source": [
    "### 20. Modifique a cor dos pontos no mapa para \"verde-escuro\"."
   ]
  },
  {
   "cell_type": "code",
   "execution_count": 17,
   "id": "0642df74",
   "metadata": {
    "ExecuteTime": {
     "end_time": "2022-01-11T00:03:37.878206Z",
     "start_time": "2022-01-11T00:03:33.006893Z"
    },
    "execution": {
     "iopub.execute_input": "2022-01-14T14:37:40.893645Z",
     "iopub.status.busy": "2022-01-14T14:37:40.893645Z",
     "iopub.status.idle": "2022-01-14T14:37:41.090504Z",
     "shell.execute_reply": "2022-01-14T14:37:41.090504Z",
     "shell.execute_reply.started": "2022-01-14T14:37:40.893645Z"
    },
    "hidden": true
   },
   "outputs": [
    {
     "data": {
      "text/html": [
       "<iframe\n",
       "    scrolling=\"no\"\n",
       "    width=\"100%\"\n",
       "    height=\"620\"\n",
       "    src=\"iframe_figures/figure_17.html\"\n",
       "    frameborder=\"0\"\n",
       "    allowfullscreen\n",
       "></iframe>\n"
      ]
     },
     "metadata": {},
     "output_type": "display_data"
    }
   ],
   "source": [
    "import plotly.express as px\n",
    "# import plotly.io as pio\n",
    "# pio.renderers.default = 'iframe'\n",
    "\n",
    "data = df[[\"id\", \"lat\", \"long\", \"price\"]]\n",
    "\n",
    "map = px.scatter_mapbox(\n",
    "    data,\n",
    "    lat=\"lat\",\n",
    "    lon=\"long\",\n",
    "    hover_name=\"id\",\n",
    "    hover_data=[\"price\"],\n",
    "    size=\"price\",\n",
    "    size_max=20,\n",
    "    color_discrete_sequence=[\"green\"],\n",
    "    zoom=8,\n",
    "    height=300,\n",
    ")\n",
    "\n",
    "map.update_layout(\n",
    "    mapbox_style=\"open-street-map\", height=600, margin={\"r\": 0, \"t\": 0, \"l\": 0, \"b\": 0}\n",
    ")\n",
    "\n",
    "map.show()\n",
    "# map.write_html('../data/kc_house_data_map_plotly.html')"
   ]
  },
  {
   "cell_type": "code",
   "execution_count": null,
   "id": "e694b77b-efc7-4e8e-944b-5ee1568d8d39",
   "metadata": {},
   "outputs": [],
   "source": []
  }
 ],
 "metadata": {
  "kernelspec": {
   "display_name": "Python 3 (ipykernel)",
   "language": "python",
   "name": "python3"
  },
  "language_info": {
   "codemirror_mode": {
    "name": "ipython",
    "version": 3
   },
   "file_extension": ".py",
   "mimetype": "text/x-python",
   "name": "python",
   "nbconvert_exporter": "python",
   "pygments_lexer": "ipython3",
   "version": "3.9.7"
  },
  "toc": {
   "base_numbering": 1,
   "nav_menu": {},
   "number_sections": true,
   "sideBar": true,
   "skip_h1_title": false,
   "title_cell": "Table of Contents",
   "title_sidebar": "Contents",
   "toc_cell": false,
   "toc_position": {
    "height": "calc(100% - 180px)",
    "left": "10px",
    "top": "150px",
    "width": "435.825px"
   },
   "toc_section_display": true,
   "toc_window_display": false
  },
  "widgets": {
   "application/vnd.jupyter.widget-state+json": {
    "state": {},
    "version_major": 2,
    "version_minor": 0
   }
  }
 },
 "nbformat": 4,
 "nbformat_minor": 5
}
